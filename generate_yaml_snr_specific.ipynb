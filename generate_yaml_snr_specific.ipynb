{
 "cells": [
  {
   "cell_type": "code",
   "execution_count": 1,
   "metadata": {},
   "outputs": [],
   "source": [
    "import os\n",
    "import itertools\n",
    "import pandas as pd\n",
    "pd.set_option('display.max_colwidth', None)\n",
    "import random\n",
    "\n",
    "import yaml\n",
    "yaml.Dumper.ignore_aliases = lambda *args : True"
   ]
  },
  {
   "cell_type": "code",
   "execution_count": 7,
   "metadata": {},
   "outputs": [
    {
     "data": {
      "text/plain": [
       "['website_meta_data_snr_-15dB.csv',\n",
       " 'website_meta_data_snr_-5dB.csv',\n",
       " 'website_meta_data_snr_-30dB.csv',\n",
       " 'website_meta_data_snr_-10dB.csv',\n",
       " 'website_meta_data_snr_-25dB.csv',\n",
       " 'website_meta_data_snr_0dB.csv',\n",
       " 'website_meta_data_snr_-20dB.csv']"
      ]
     },
     "execution_count": 7,
     "metadata": {},
     "output_type": "execute_result"
    }
   ],
   "source": [
    "models =['Input', 'DCUNet', 'DPTNet', 'RegressionFCNN', 'SMoLnet', 'WaveUNet']\n",
    "snrs = ['0', '-5', '-10', '-15', '-20', '-25', '-30']\n",
    "meta_data_dir = 'meta_data_for_yaml'\n",
    "os.listdir(meta_data_dir)"
   ]
  },
  {
   "cell_type": "code",
   "execution_count": 3,
   "metadata": {},
   "outputs": [],
   "source": [
    "df = pd.read_csv(f'{meta_data_dir}/website_meta_data_snr_-30dB.csv', index_col=0)"
   ]
  },
  {
   "cell_type": "code",
   "execution_count": null,
   "metadata": {},
   "outputs": [],
   "source": []
  },
  {
   "cell_type": "code",
   "execution_count": 3,
   "metadata": {},
   "outputs": [],
   "source": [
    "meta_data_dir = 'meta_data_for_yaml'\n",
    "\n",
    "def create_combinations(snr='-30dB', num_rows=1):\n",
    "    df = pd.read_csv(f'{meta_data_dir}/website_meta_data_snr_{snr}dB.csv', index_col=0)\n",
    "    #all wavs except for the input to create combinations\n",
    "    #Input will be our reference\n",
    "    denoised_list = list(df.iloc[0])[1:]\n",
    "    #create pairs of twos\n",
    "    #e.g. - (WaveUNet_SX139.WAV.n121.wav, RegressionFCNN_SX139.WAV.n121.wav) ...\n",
    "    combinations = list(itertools.combinations(denoised_list, 2))\n",
    "    \n",
    "    # Final combination list with input appended to all \n",
    "    #e.g. - (input.wav, WaveUNet_SX139.WAV.n121.wav, RegressionFCNN_SX139.WAV.n121.wav) ...\n",
    "    final_combination_list = []\n",
    "    for c in combinations:\n",
    "        #trick to append to tuple \n",
    "        c = (df['Input'][0], *c)\n",
    "        final_combination_list.append(c)\n",
    "    return final_combination_list    "
   ]
  },
  {
   "cell_type": "code",
   "execution_count": null,
   "metadata": {},
   "outputs": [],
   "source": []
  },
  {
   "cell_type": "code",
   "execution_count": 4,
   "metadata": {},
   "outputs": [],
   "source": [
    "def make_yaml_file(combinations, snr='-30dB'):\n",
    "    print(f'''\n",
    "    {len(combinations)} pages will be created for subjective evalutation\n",
    "    ''')\n",
    "    \n",
    "    final_dict_template = {\n",
    "    'testname': 'AB Test',\n",
    "     'testId': 'ab_noloop',\n",
    "     'bufferSize': 2048,\n",
    "     'stopOnErrors': True,\n",
    "     'showButtonPreviousPage': True,\n",
    "     'remoteService': 'service/write.php',\n",
    "     'pages': []\n",
    "    }\n",
    "    #final page which sends results\n",
    "    final_page_template =  {'type': 'finish',\n",
    "       'name': 'Thank you',\n",
    "       'content': 'Thank you for attending',\n",
    "       'showResults': False,\n",
    "       'writeResults': True\n",
    "    }\n",
    "    pages=[]\n",
    "    for i in range(len(combinations)):\n",
    "        pages_dict_template = {'type': 'paired_comparison',\n",
    "         'id': 'trialAB2',\n",
    "         'name': None,\n",
    "         'unforced': None,\n",
    "         'content': 'test description AB',\n",
    "         'showWaveform': True,\n",
    "         'enableLooping': False,\n",
    "         'reference': '',\n",
    "         'stimuli': {'C1': '',\n",
    "          'C2': ''}}\n",
    "        pages.append(pages_dict_template)\n",
    "        pages[i]['reference'] = combinations[i][0]\n",
    "        pages[i]['stimuli']['C1'] = combinations[i][1]\n",
    "        pages[i]['stimuli']['C2'] = combinations[i][2]\n",
    "    \n",
    "    pages.append(final_page_template)\n",
    "    final_dict_template['pages'] = pages\n",
    "    \n",
    "    # dict to yaml\n",
    "    yam_file_path = f'/Users/ashishalex/Documents/research/web_drone_project/webmushra/configs/snr{snr}dB.yaml'\n",
    "    with open(yam_file_path, 'w') as f:\n",
    "        yaml.dump(final_dict_template, f)\n",
    "    print('Created yaml file at: ', yam_file_path)\n",
    "    \n",
    "    return final_dict_template"
   ]
  },
  {
   "cell_type": "code",
   "execution_count": 5,
   "metadata": {},
   "outputs": [
    {
     "name": "stdout",
     "output_type": "stream",
     "text": [
      "\n",
      "    10 pages will be created for subjective evalutation\n",
      "    \n",
      "Created yaml file at:  /Users/ashishalex/Documents/research/web_drone_project/webmushra/configs/snr0dB.yaml\n",
      "\n",
      "    10 pages will be created for subjective evalutation\n",
      "    \n",
      "Created yaml file at:  /Users/ashishalex/Documents/research/web_drone_project/webmushra/configs/snr-5dB.yaml\n",
      "\n",
      "    10 pages will be created for subjective evalutation\n",
      "    \n",
      "Created yaml file at:  /Users/ashishalex/Documents/research/web_drone_project/webmushra/configs/snr-10dB.yaml\n",
      "\n",
      "    10 pages will be created for subjective evalutation\n",
      "    \n",
      "Created yaml file at:  /Users/ashishalex/Documents/research/web_drone_project/webmushra/configs/snr-15dB.yaml\n",
      "\n",
      "    10 pages will be created for subjective evalutation\n",
      "    \n",
      "Created yaml file at:  /Users/ashishalex/Documents/research/web_drone_project/webmushra/configs/snr-20dB.yaml\n",
      "\n",
      "    10 pages will be created for subjective evalutation\n",
      "    \n",
      "Created yaml file at:  /Users/ashishalex/Documents/research/web_drone_project/webmushra/configs/snr-25dB.yaml\n",
      "\n",
      "    10 pages will be created for subjective evalutation\n",
      "    \n",
      "Created yaml file at:  /Users/ashishalex/Documents/research/web_drone_project/webmushra/configs/snr-30dB.yaml\n"
     ]
    }
   ],
   "source": [
    "snr = '-30'\n",
    "\n",
    "for snr in snrs:    \n",
    "    combinations = create_combinations(snr=snr, num_rows=1)\n",
    "    final_dict_template = make_yaml_file(combinations=combinations, snr=snr)"
   ]
  },
  {
   "cell_type": "code",
   "execution_count": null,
   "metadata": {},
   "outputs": [],
   "source": []
  }
 ],
 "metadata": {
  "kernelspec": {
   "display_name": "Python 3",
   "language": "python",
   "name": "python3"
  },
  "language_info": {
   "codemirror_mode": {
    "name": "ipython",
    "version": 3
   },
   "file_extension": ".py",
   "mimetype": "text/x-python",
   "name": "python",
   "nbconvert_exporter": "python",
   "pygments_lexer": "ipython3",
   "version": "3.8.5"
  }
 },
 "nbformat": 4,
 "nbformat_minor": 4
}
