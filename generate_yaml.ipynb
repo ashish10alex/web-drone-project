{
 "cells": [
  {
   "cell_type": "code",
   "execution_count": 1,
   "metadata": {},
   "outputs": [],
   "source": [
    "import os\n",
    "import itertools\n",
    "import pandas as pd\n",
    "pd.set_option('display.max_colwidth', None)\n",
    "import random\n",
    "import yaml\n",
    "yaml.Dumper.ignore_aliases = lambda *args : True"
   ]
  },
  {
   "cell_type": "code",
   "execution_count": 2,
   "metadata": {},
   "outputs": [],
   "source": [
    "df = pd.read_csv('website_meta_data_test.csv', index_col=0)"
   ]
  },
  {
   "cell_type": "code",
   "execution_count": 3,
   "metadata": {},
   "outputs": [
    {
     "data": {
      "text/html": [
       "<div>\n",
       "<style scoped>\n",
       "    .dataframe tbody tr th:only-of-type {\n",
       "        vertical-align: middle;\n",
       "    }\n",
       "\n",
       "    .dataframe tbody tr th {\n",
       "        vertical-align: top;\n",
       "    }\n",
       "\n",
       "    .dataframe thead th {\n",
       "        text-align: right;\n",
       "    }\n",
       "</style>\n",
       "<table border=\"1\" class=\"dataframe\">\n",
       "  <thead>\n",
       "    <tr style=\"text-align: right;\">\n",
       "      <th></th>\n",
       "      <th>Input</th>\n",
       "      <th>DCUNet</th>\n",
       "      <th>DPTNet</th>\n",
       "      <th>RegressionFCNN</th>\n",
       "      <th>SMoLnet</th>\n",
       "      <th>WaveUNet</th>\n",
       "    </tr>\n",
       "  </thead>\n",
       "  <tbody>\n",
       "    <tr>\n",
       "      <th>0</th>\n",
       "      <td>configs/resources/Drone_Noise_Test_Data//drone_noise_out//Input/SX139.WAV.n121.wav</td>\n",
       "      <td>configs/resources/Drone_Noise_Test_Data//drone_noise_out//DCUNet/0db/data/DCUNet_SX139.WAV.n121.wav</td>\n",
       "      <td>configs/resources/Drone_Noise_Test_Data//drone_noise_out//DPTNet/0db/data/DPTNet_SX139.WAV.n121.wav</td>\n",
       "      <td>configs/resources/Drone_Noise_Test_Data//drone_noise_out//RegressionFCNN/0db/data/RegressionFCNN_SX139.WAV.n121.wav</td>\n",
       "      <td>configs/resources/Drone_Noise_Test_Data//drone_noise_out//SMoLnet/0db/data/SMoLnet_SX139.WAV.n121.wav</td>\n",
       "      <td>configs/resources/Drone_Noise_Test_Data//drone_noise_out//WaveUNet/0db/data/WaveUNet_SX139.WAV.n121.wav</td>\n",
       "    </tr>\n",
       "    <tr>\n",
       "      <th>1</th>\n",
       "      <td>configs/resources/Drone_Noise_Test_Data//drone_noise_out//Input/SX139.WAV.n122.wav</td>\n",
       "      <td>configs/resources/Drone_Noise_Test_Data//drone_noise_out//DCUNet/0db/data/DCUNet_SX139.WAV.n122.wav</td>\n",
       "      <td>configs/resources/Drone_Noise_Test_Data//drone_noise_out//DPTNet/0db/data/DPTNet_SX139.WAV.n122.wav</td>\n",
       "      <td>configs/resources/Drone_Noise_Test_Data//drone_noise_out//RegressionFCNN/0db/data/RegressionFCNN_SX139.WAV.n122.wav</td>\n",
       "      <td>configs/resources/Drone_Noise_Test_Data//drone_noise_out//SMoLnet/0db/data/SMoLnet_SX139.WAV.n122.wav</td>\n",
       "      <td>configs/resources/Drone_Noise_Test_Data//drone_noise_out//WaveUNet/0db/data/WaveUNet_SX139.WAV.n122.wav</td>\n",
       "    </tr>\n",
       "    <tr>\n",
       "      <th>2</th>\n",
       "      <td>configs/resources/Drone_Noise_Test_Data//drone_noise_out//Input/SI1129.WAV.n121.wav</td>\n",
       "      <td>configs/resources/Drone_Noise_Test_Data//drone_noise_out//DCUNet/0db/data/DCUNet_SI1129.WAV.n121.wav</td>\n",
       "      <td>configs/resources/Drone_Noise_Test_Data//drone_noise_out//DPTNet/0db/data/DPTNet_SI1129.WAV.n121.wav</td>\n",
       "      <td>configs/resources/Drone_Noise_Test_Data//drone_noise_out//RegressionFCNN/0db/data/RegressionFCNN_SI1129.WAV.n121.wav</td>\n",
       "      <td>configs/resources/Drone_Noise_Test_Data//drone_noise_out//SMoLnet/0db/data/SMoLnet_SI1129.WAV.n121.wav</td>\n",
       "      <td>configs/resources/Drone_Noise_Test_Data//drone_noise_out//WaveUNet/0db/data/WaveUNet_SI1129.WAV.n121.wav</td>\n",
       "    </tr>\n",
       "    <tr>\n",
       "      <th>3</th>\n",
       "      <td>configs/resources/Drone_Noise_Test_Data//drone_noise_out//Input/SI1129.WAV.n122.wav</td>\n",
       "      <td>configs/resources/Drone_Noise_Test_Data//drone_noise_out//DCUNet/0db/data/DCUNet_SI1129.WAV.n122.wav</td>\n",
       "      <td>configs/resources/Drone_Noise_Test_Data//drone_noise_out//DPTNet/0db/data/DPTNet_SI1129.WAV.n122.wav</td>\n",
       "      <td>configs/resources/Drone_Noise_Test_Data//drone_noise_out//RegressionFCNN/0db/data/RegressionFCNN_SI1129.WAV.n122.wav</td>\n",
       "      <td>configs/resources/Drone_Noise_Test_Data//drone_noise_out//SMoLnet/0db/data/SMoLnet_SI1129.WAV.n122.wav</td>\n",
       "      <td>configs/resources/Drone_Noise_Test_Data//drone_noise_out//WaveUNet/0db/data/WaveUNet_SI1129.WAV.n122.wav</td>\n",
       "    </tr>\n",
       "    <tr>\n",
       "      <th>4</th>\n",
       "      <td>configs/resources/Drone_Noise_Test_Data//drone_noise_out//Input/SX319.WAV.n122.wav</td>\n",
       "      <td>configs/resources/Drone_Noise_Test_Data//drone_noise_out//DCUNet/0db/data/DCUNet_SX319.WAV.n122.wav</td>\n",
       "      <td>configs/resources/Drone_Noise_Test_Data//drone_noise_out//DPTNet/0db/data/DPTNet_SX319.WAV.n122.wav</td>\n",
       "      <td>configs/resources/Drone_Noise_Test_Data//drone_noise_out//RegressionFCNN/0db/data/RegressionFCNN_SX319.WAV.n122.wav</td>\n",
       "      <td>configs/resources/Drone_Noise_Test_Data//drone_noise_out//SMoLnet/0db/data/SMoLnet_SX319.WAV.n122.wav</td>\n",
       "      <td>configs/resources/Drone_Noise_Test_Data//drone_noise_out//WaveUNet/0db/data/WaveUNet_SX319.WAV.n122.wav</td>\n",
       "    </tr>\n",
       "  </tbody>\n",
       "</table>\n",
       "</div>"
      ],
      "text/plain": [
       "                                                                                 Input  \\\n",
       "0   configs/resources/Drone_Noise_Test_Data//drone_noise_out//Input/SX139.WAV.n121.wav   \n",
       "1   configs/resources/Drone_Noise_Test_Data//drone_noise_out//Input/SX139.WAV.n122.wav   \n",
       "2  configs/resources/Drone_Noise_Test_Data//drone_noise_out//Input/SI1129.WAV.n121.wav   \n",
       "3  configs/resources/Drone_Noise_Test_Data//drone_noise_out//Input/SI1129.WAV.n122.wav   \n",
       "4   configs/resources/Drone_Noise_Test_Data//drone_noise_out//Input/SX319.WAV.n122.wav   \n",
       "\n",
       "                                                                                                 DCUNet  \\\n",
       "0   configs/resources/Drone_Noise_Test_Data//drone_noise_out//DCUNet/0db/data/DCUNet_SX139.WAV.n121.wav   \n",
       "1   configs/resources/Drone_Noise_Test_Data//drone_noise_out//DCUNet/0db/data/DCUNet_SX139.WAV.n122.wav   \n",
       "2  configs/resources/Drone_Noise_Test_Data//drone_noise_out//DCUNet/0db/data/DCUNet_SI1129.WAV.n121.wav   \n",
       "3  configs/resources/Drone_Noise_Test_Data//drone_noise_out//DCUNet/0db/data/DCUNet_SI1129.WAV.n122.wav   \n",
       "4   configs/resources/Drone_Noise_Test_Data//drone_noise_out//DCUNet/0db/data/DCUNet_SX319.WAV.n122.wav   \n",
       "\n",
       "                                                                                                 DPTNet  \\\n",
       "0   configs/resources/Drone_Noise_Test_Data//drone_noise_out//DPTNet/0db/data/DPTNet_SX139.WAV.n121.wav   \n",
       "1   configs/resources/Drone_Noise_Test_Data//drone_noise_out//DPTNet/0db/data/DPTNet_SX139.WAV.n122.wav   \n",
       "2  configs/resources/Drone_Noise_Test_Data//drone_noise_out//DPTNet/0db/data/DPTNet_SI1129.WAV.n121.wav   \n",
       "3  configs/resources/Drone_Noise_Test_Data//drone_noise_out//DPTNet/0db/data/DPTNet_SI1129.WAV.n122.wav   \n",
       "4   configs/resources/Drone_Noise_Test_Data//drone_noise_out//DPTNet/0db/data/DPTNet_SX319.WAV.n122.wav   \n",
       "\n",
       "                                                                                                         RegressionFCNN  \\\n",
       "0   configs/resources/Drone_Noise_Test_Data//drone_noise_out//RegressionFCNN/0db/data/RegressionFCNN_SX139.WAV.n121.wav   \n",
       "1   configs/resources/Drone_Noise_Test_Data//drone_noise_out//RegressionFCNN/0db/data/RegressionFCNN_SX139.WAV.n122.wav   \n",
       "2  configs/resources/Drone_Noise_Test_Data//drone_noise_out//RegressionFCNN/0db/data/RegressionFCNN_SI1129.WAV.n121.wav   \n",
       "3  configs/resources/Drone_Noise_Test_Data//drone_noise_out//RegressionFCNN/0db/data/RegressionFCNN_SI1129.WAV.n122.wav   \n",
       "4   configs/resources/Drone_Noise_Test_Data//drone_noise_out//RegressionFCNN/0db/data/RegressionFCNN_SX319.WAV.n122.wav   \n",
       "\n",
       "                                                                                                  SMoLnet  \\\n",
       "0   configs/resources/Drone_Noise_Test_Data//drone_noise_out//SMoLnet/0db/data/SMoLnet_SX139.WAV.n121.wav   \n",
       "1   configs/resources/Drone_Noise_Test_Data//drone_noise_out//SMoLnet/0db/data/SMoLnet_SX139.WAV.n122.wav   \n",
       "2  configs/resources/Drone_Noise_Test_Data//drone_noise_out//SMoLnet/0db/data/SMoLnet_SI1129.WAV.n121.wav   \n",
       "3  configs/resources/Drone_Noise_Test_Data//drone_noise_out//SMoLnet/0db/data/SMoLnet_SI1129.WAV.n122.wav   \n",
       "4   configs/resources/Drone_Noise_Test_Data//drone_noise_out//SMoLnet/0db/data/SMoLnet_SX319.WAV.n122.wav   \n",
       "\n",
       "                                                                                                   WaveUNet  \n",
       "0   configs/resources/Drone_Noise_Test_Data//drone_noise_out//WaveUNet/0db/data/WaveUNet_SX139.WAV.n121.wav  \n",
       "1   configs/resources/Drone_Noise_Test_Data//drone_noise_out//WaveUNet/0db/data/WaveUNet_SX139.WAV.n122.wav  \n",
       "2  configs/resources/Drone_Noise_Test_Data//drone_noise_out//WaveUNet/0db/data/WaveUNet_SI1129.WAV.n121.wav  \n",
       "3  configs/resources/Drone_Noise_Test_Data//drone_noise_out//WaveUNet/0db/data/WaveUNet_SI1129.WAV.n122.wav  \n",
       "4   configs/resources/Drone_Noise_Test_Data//drone_noise_out//WaveUNet/0db/data/WaveUNet_SX319.WAV.n122.wav  "
      ]
     },
     "execution_count": 3,
     "metadata": {},
     "output_type": "execute_result"
    }
   ],
   "source": [
    "df.head()"
   ]
  },
  {
   "cell_type": "code",
   "execution_count": 4,
   "metadata": {},
   "outputs": [
    {
     "data": {
      "text/plain": [
       "['configs/resources/Drone_Noise_Test_Data//drone_noise_out//DPTNet/0db/data/DPTNet_SX139.WAV.n121.wav',\n",
       " 'configs/resources/Drone_Noise_Test_Data//drone_noise_out//RegressionFCNN/0db/data/RegressionFCNN_SX139.WAV.n121.wav',\n",
       " 'configs/resources/Drone_Noise_Test_Data//drone_noise_out//SMoLnet/0db/data/SMoLnet_SX139.WAV.n121.wav',\n",
       " 'configs/resources/Drone_Noise_Test_Data//drone_noise_out//WaveUNet/0db/data/WaveUNet_SX139.WAV.n121.wav']"
      ]
     },
     "execution_count": 4,
     "metadata": {},
     "output_type": "execute_result"
    }
   ],
   "source": [
    "test_list = list(df.iloc[0])[2:]\n",
    "test_list"
   ]
  },
  {
   "cell_type": "code",
   "execution_count": 5,
   "metadata": {},
   "outputs": [
    {
     "data": {
      "text/plain": [
       "'configs/resources/Drone_Noise_Test_Data//drone_noise_out//Input/SX139.WAV.n121.wav'"
      ]
     },
     "execution_count": 5,
     "metadata": {},
     "output_type": "execute_result"
    }
   ],
   "source": [
    "df['Input'][0]"
   ]
  },
  {
   "cell_type": "code",
   "execution_count": 6,
   "metadata": {},
   "outputs": [
    {
     "data": {
      "text/plain": [
       "[('configs/resources/Drone_Noise_Test_Data//drone_noise_out//DPTNet/0db/data/DPTNet_SX139.WAV.n121.wav',\n",
       "  'configs/resources/Drone_Noise_Test_Data//drone_noise_out//RegressionFCNN/0db/data/RegressionFCNN_SX139.WAV.n121.wav'),\n",
       " ('configs/resources/Drone_Noise_Test_Data//drone_noise_out//DPTNet/0db/data/DPTNet_SX139.WAV.n121.wav',\n",
       "  'configs/resources/Drone_Noise_Test_Data//drone_noise_out//SMoLnet/0db/data/SMoLnet_SX139.WAV.n121.wav'),\n",
       " ('configs/resources/Drone_Noise_Test_Data//drone_noise_out//DPTNet/0db/data/DPTNet_SX139.WAV.n121.wav',\n",
       "  'configs/resources/Drone_Noise_Test_Data//drone_noise_out//WaveUNet/0db/data/WaveUNet_SX139.WAV.n121.wav'),\n",
       " ('configs/resources/Drone_Noise_Test_Data//drone_noise_out//RegressionFCNN/0db/data/RegressionFCNN_SX139.WAV.n121.wav',\n",
       "  'configs/resources/Drone_Noise_Test_Data//drone_noise_out//SMoLnet/0db/data/SMoLnet_SX139.WAV.n121.wav'),\n",
       " ('configs/resources/Drone_Noise_Test_Data//drone_noise_out//RegressionFCNN/0db/data/RegressionFCNN_SX139.WAV.n121.wav',\n",
       "  'configs/resources/Drone_Noise_Test_Data//drone_noise_out//WaveUNet/0db/data/WaveUNet_SX139.WAV.n121.wav'),\n",
       " ('configs/resources/Drone_Noise_Test_Data//drone_noise_out//SMoLnet/0db/data/SMoLnet_SX139.WAV.n121.wav',\n",
       "  'configs/resources/Drone_Noise_Test_Data//drone_noise_out//WaveUNet/0db/data/WaveUNet_SX139.WAV.n121.wav')]"
      ]
     },
     "execution_count": 6,
     "metadata": {},
     "output_type": "execute_result"
    }
   ],
   "source": [
    "combinations = list(itertools.combinations(test_list, 2))\n",
    "combinations"
   ]
  },
  {
   "cell_type": "code",
   "execution_count": 7,
   "metadata": {},
   "outputs": [
    {
     "data": {
      "text/plain": [
       "[('configs/resources/Drone_Noise_Test_Data//drone_noise_out//Input/SX139.WAV.n121.wav',\n",
       "  'configs/resources/Drone_Noise_Test_Data//drone_noise_out//DPTNet/0db/data/DPTNet_SX139.WAV.n121.wav',\n",
       "  'configs/resources/Drone_Noise_Test_Data//drone_noise_out//RegressionFCNN/0db/data/RegressionFCNN_SX139.WAV.n121.wav'),\n",
       " ('configs/resources/Drone_Noise_Test_Data//drone_noise_out//Input/SX139.WAV.n121.wav',\n",
       "  'configs/resources/Drone_Noise_Test_Data//drone_noise_out//DPTNet/0db/data/DPTNet_SX139.WAV.n121.wav',\n",
       "  'configs/resources/Drone_Noise_Test_Data//drone_noise_out//SMoLnet/0db/data/SMoLnet_SX139.WAV.n121.wav'),\n",
       " ('configs/resources/Drone_Noise_Test_Data//drone_noise_out//Input/SX139.WAV.n121.wav',\n",
       "  'configs/resources/Drone_Noise_Test_Data//drone_noise_out//DPTNet/0db/data/DPTNet_SX139.WAV.n121.wav',\n",
       "  'configs/resources/Drone_Noise_Test_Data//drone_noise_out//WaveUNet/0db/data/WaveUNet_SX139.WAV.n121.wav'),\n",
       " ('configs/resources/Drone_Noise_Test_Data//drone_noise_out//Input/SX139.WAV.n121.wav',\n",
       "  'configs/resources/Drone_Noise_Test_Data//drone_noise_out//RegressionFCNN/0db/data/RegressionFCNN_SX139.WAV.n121.wav',\n",
       "  'configs/resources/Drone_Noise_Test_Data//drone_noise_out//SMoLnet/0db/data/SMoLnet_SX139.WAV.n121.wav'),\n",
       " ('configs/resources/Drone_Noise_Test_Data//drone_noise_out//Input/SX139.WAV.n121.wav',\n",
       "  'configs/resources/Drone_Noise_Test_Data//drone_noise_out//RegressionFCNN/0db/data/RegressionFCNN_SX139.WAV.n121.wav',\n",
       "  'configs/resources/Drone_Noise_Test_Data//drone_noise_out//WaveUNet/0db/data/WaveUNet_SX139.WAV.n121.wav'),\n",
       " ('configs/resources/Drone_Noise_Test_Data//drone_noise_out//Input/SX139.WAV.n121.wav',\n",
       "  'configs/resources/Drone_Noise_Test_Data//drone_noise_out//SMoLnet/0db/data/SMoLnet_SX139.WAV.n121.wav',\n",
       "  'configs/resources/Drone_Noise_Test_Data//drone_noise_out//WaveUNet/0db/data/WaveUNet_SX139.WAV.n121.wav')]"
      ]
     },
     "execution_count": 7,
     "metadata": {},
     "output_type": "execute_result"
    }
   ],
   "source": [
    "final_combination_list = []\n",
    "for c in combinations:\n",
    "    c = (df['Input'][0], *c)\n",
    "    final_combination_list.append(c)\n",
    "final_combination_list"
   ]
  },
  {
   "cell_type": "code",
   "execution_count": 8,
   "metadata": {},
   "outputs": [],
   "source": [
    "final_dict_template = {\n",
    "'testname': 'AB Test',\n",
    " 'testId': 'ab_noloop',\n",
    " 'bufferSize': 2048,\n",
    " 'stopOnErrors': True,\n",
    " 'showButtonPreviousPage': True,\n",
    " 'remoteService': 'service/write.php',\n",
    " 'pages': []\n",
    "}\n",
    "pages_dict_template = {'type': 'paired_comparison',\n",
    " 'id': 'trialAB2',\n",
    " 'name': None,\n",
    " 'unforced': None,\n",
    " 'content': 'test description AB',\n",
    " 'showWaveform': True,\n",
    " 'enableLooping': False,\n",
    " 'reference': '',\n",
    " 'stimuli': {'C1': '',\n",
    "  'C2': ''}}\n",
    "final_page_template =  {'type': 'finish',\n",
    "   'name': 'Thank you',\n",
    "   'content': 'Thank you for attending',\n",
    "   'showResults': False,\n",
    "   'writeResults': True\n",
    "}"
   ]
  },
  {
   "cell_type": "code",
   "execution_count": 9,
   "metadata": {},
   "outputs": [],
   "source": [
    "def make_yaml_file():\n",
    "    pages=[]\n",
    "    for i in range(len(combinations)):\n",
    "        pages_dict_template = {'type': 'paired_comparison',\n",
    "         'id': 'trialAB2',\n",
    "         'name': None,\n",
    "         'unforced': None,\n",
    "         'content': 'test description AB',\n",
    "         'showWaveform': True,\n",
    "         'enableLooping': False,\n",
    "         'reference': '',\n",
    "         'stimuli': {'C1': '',\n",
    "          'C2': ''}}\n",
    "#         print(pages_dict_template)\n",
    "        pages.append(pages_dict_template)\n",
    "        pages[i]['reference'] = final_combination_list[i][0]\n",
    "        pages[i]['stimuli']['C1'] = final_combination_list[i][1]\n",
    "        pages[i]['stimuli']['C2'] = final_combination_list[i][2]\n",
    "    \n",
    "    pages.append(final_page_template)\n",
    "    final_dict_template['pages'] = pages\n",
    "    \n",
    "    return final_dict_template"
   ]
  },
  {
   "cell_type": "code",
   "execution_count": 10,
   "metadata": {},
   "outputs": [
    {
     "data": {
      "text/plain": [
       "{'testname': 'AB Test',\n",
       " 'testId': 'ab_noloop',\n",
       " 'bufferSize': 2048,\n",
       " 'stopOnErrors': True,\n",
       " 'showButtonPreviousPage': True,\n",
       " 'remoteService': 'service/write.php',\n",
       " 'pages': [{'type': 'paired_comparison',\n",
       "   'id': 'trialAB2',\n",
       "   'name': None,\n",
       "   'unforced': None,\n",
       "   'content': 'test description AB',\n",
       "   'showWaveform': True,\n",
       "   'enableLooping': False,\n",
       "   'reference': 'configs/resources/Drone_Noise_Test_Data//drone_noise_out//Input/SX139.WAV.n121.wav',\n",
       "   'stimuli': {'C1': 'configs/resources/Drone_Noise_Test_Data//drone_noise_out//DPTNet/0db/data/DPTNet_SX139.WAV.n121.wav',\n",
       "    'C2': 'configs/resources/Drone_Noise_Test_Data//drone_noise_out//RegressionFCNN/0db/data/RegressionFCNN_SX139.WAV.n121.wav'}},\n",
       "  {'type': 'paired_comparison',\n",
       "   'id': 'trialAB2',\n",
       "   'name': None,\n",
       "   'unforced': None,\n",
       "   'content': 'test description AB',\n",
       "   'showWaveform': True,\n",
       "   'enableLooping': False,\n",
       "   'reference': 'configs/resources/Drone_Noise_Test_Data//drone_noise_out//Input/SX139.WAV.n121.wav',\n",
       "   'stimuli': {'C1': 'configs/resources/Drone_Noise_Test_Data//drone_noise_out//DPTNet/0db/data/DPTNet_SX139.WAV.n121.wav',\n",
       "    'C2': 'configs/resources/Drone_Noise_Test_Data//drone_noise_out//SMoLnet/0db/data/SMoLnet_SX139.WAV.n121.wav'}},\n",
       "  {'type': 'paired_comparison',\n",
       "   'id': 'trialAB2',\n",
       "   'name': None,\n",
       "   'unforced': None,\n",
       "   'content': 'test description AB',\n",
       "   'showWaveform': True,\n",
       "   'enableLooping': False,\n",
       "   'reference': 'configs/resources/Drone_Noise_Test_Data//drone_noise_out//Input/SX139.WAV.n121.wav',\n",
       "   'stimuli': {'C1': 'configs/resources/Drone_Noise_Test_Data//drone_noise_out//DPTNet/0db/data/DPTNet_SX139.WAV.n121.wav',\n",
       "    'C2': 'configs/resources/Drone_Noise_Test_Data//drone_noise_out//WaveUNet/0db/data/WaveUNet_SX139.WAV.n121.wav'}},\n",
       "  {'type': 'paired_comparison',\n",
       "   'id': 'trialAB2',\n",
       "   'name': None,\n",
       "   'unforced': None,\n",
       "   'content': 'test description AB',\n",
       "   'showWaveform': True,\n",
       "   'enableLooping': False,\n",
       "   'reference': 'configs/resources/Drone_Noise_Test_Data//drone_noise_out//Input/SX139.WAV.n121.wav',\n",
       "   'stimuli': {'C1': 'configs/resources/Drone_Noise_Test_Data//drone_noise_out//RegressionFCNN/0db/data/RegressionFCNN_SX139.WAV.n121.wav',\n",
       "    'C2': 'configs/resources/Drone_Noise_Test_Data//drone_noise_out//SMoLnet/0db/data/SMoLnet_SX139.WAV.n121.wav'}},\n",
       "  {'type': 'paired_comparison',\n",
       "   'id': 'trialAB2',\n",
       "   'name': None,\n",
       "   'unforced': None,\n",
       "   'content': 'test description AB',\n",
       "   'showWaveform': True,\n",
       "   'enableLooping': False,\n",
       "   'reference': 'configs/resources/Drone_Noise_Test_Data//drone_noise_out//Input/SX139.WAV.n121.wav',\n",
       "   'stimuli': {'C1': 'configs/resources/Drone_Noise_Test_Data//drone_noise_out//RegressionFCNN/0db/data/RegressionFCNN_SX139.WAV.n121.wav',\n",
       "    'C2': 'configs/resources/Drone_Noise_Test_Data//drone_noise_out//WaveUNet/0db/data/WaveUNet_SX139.WAV.n121.wav'}},\n",
       "  {'type': 'paired_comparison',\n",
       "   'id': 'trialAB2',\n",
       "   'name': None,\n",
       "   'unforced': None,\n",
       "   'content': 'test description AB',\n",
       "   'showWaveform': True,\n",
       "   'enableLooping': False,\n",
       "   'reference': 'configs/resources/Drone_Noise_Test_Data//drone_noise_out//Input/SX139.WAV.n121.wav',\n",
       "   'stimuli': {'C1': 'configs/resources/Drone_Noise_Test_Data//drone_noise_out//SMoLnet/0db/data/SMoLnet_SX139.WAV.n121.wav',\n",
       "    'C2': 'configs/resources/Drone_Noise_Test_Data//drone_noise_out//WaveUNet/0db/data/WaveUNet_SX139.WAV.n121.wav'}},\n",
       "  {'type': 'finish',\n",
       "   'name': 'Thank you',\n",
       "   'content': 'Thank you for attending',\n",
       "   'showResults': False,\n",
       "   'writeResults': True}]}"
      ]
     },
     "execution_count": 10,
     "metadata": {},
     "output_type": "execute_result"
    }
   ],
   "source": [
    "make_yaml_file()"
   ]
  },
  {
   "cell_type": "code",
   "execution_count": 11,
   "metadata": {},
   "outputs": [],
   "source": [
    "with open('/Users/ashishalex/Documents/research/web_drone_project/webmushra/configs/test.yaml', 'w') as file:\n",
    "    yaml.dump(final_dict_template, file)"
   ]
  },
  {
   "cell_type": "code",
   "execution_count": null,
   "metadata": {},
   "outputs": [],
   "source": []
  },
  {
   "cell_type": "code",
   "execution_count": null,
   "metadata": {},
   "outputs": [],
   "source": []
  },
  {
   "cell_type": "code",
   "execution_count": null,
   "metadata": {},
   "outputs": [],
   "source": []
  }
 ],
 "metadata": {
  "kernelspec": {
   "display_name": "Python 3",
   "language": "python",
   "name": "python3"
  },
  "language_info": {
   "codemirror_mode": {
    "name": "ipython",
    "version": 3
   },
   "file_extension": ".py",
   "mimetype": "text/x-python",
   "name": "python",
   "nbconvert_exporter": "python",
   "pygments_lexer": "ipython3",
   "version": "3.7.10"
  }
 },
 "nbformat": 4,
 "nbformat_minor": 4
}
