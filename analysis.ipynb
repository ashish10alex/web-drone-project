{
 "cells": [
  {
   "cell_type": "code",
   "execution_count": 1,
   "metadata": {},
   "outputs": [],
   "source": [
    "\n",
    "import random\n",
    "# import matplotlib.pyplot as plt\n",
    "# plt.rcParams.update({\n",
    "#     \"text.usetex\": True,\n",
    "#     \"font.family\": \"sans-serif\",\n",
    "#     \"font.sans-serif\": [\"Helvetica\"]})\n",
    "# # for Palatino and other serif fonts use:\n",
    "# plt.rcParams.update({\n",
    "#     \"text.usetex\": True,\n",
    "#     \"font.family\": \"serif\",\n",
    "#     \"font.serif\": [\"Palatino\"],\n",
    "# })\n",
    "import pandas as pd"
   ]
  },
  {
   "cell_type": "code",
   "execution_count": 2,
   "metadata": {},
   "outputs": [],
   "source": [
    "df = pd.read_csv('results.csv', header=1)"
   ]
  },
  {
   "cell_type": "code",
   "execution_count": 3,
   "metadata": {},
   "outputs": [
    {
     "data": {
      "text/plain": [
       "Index(['Unnamed: 0', 'config', 'clean_reference', 'denoised_1', 'date', 'id',\n",
       "       'testId', 'uuid', 'preffered_utterance', 'snr', 'time', 'type',\n",
       "       'denoised_2'],\n",
       "      dtype='object')"
      ]
     },
     "execution_count": 3,
     "metadata": {},
     "output_type": "execute_result"
    }
   ],
   "source": [
    "df.columns"
   ]
  },
  {
   "cell_type": "code",
   "execution_count": 4,
   "metadata": {},
   "outputs": [],
   "source": [
    "df_10 = df[df['snr']=='-10db']"
   ]
  },
  {
   "cell_type": "code",
   "execution_count": 5,
   "metadata": {},
   "outputs": [
    {
     "data": {
      "text/plain": [
       "20       RegressionFCNN_SX49.WAV.n121.wav\n",
       "27            SMoLnet_SI1129.WAV.n122.wav\n",
       "33            SMoLnet_SI1129.WAV.n121.wav\n",
       "36             SMoLnet_SX409.WAV.n121.wav\n",
       "56           WaveUNet_SI1129.WAV.n121.wav\n",
       "64               DPTNet_SX49.WAV.n121.wav\n",
       "67              DPTNet_SX139.WAV.n122.wav\n",
       "69              DCUNet_SX319.WAV.n121.wav\n",
       "84              SMoLnet_SX49.WAV.n121.wav\n",
       "87              DPTNet_SX139.WAV.n122.wav\n",
       "89             SMoLnet_SX319.WAV.n121.wav\n",
       "106      RegressionFCNN_SX49.WAV.n121.wav\n",
       "112          WaveUNet_SI1759.WAV.n122.wav\n",
       "121             DCUNet_SX139.WAV.n121.wav\n",
       "125    RegressionFCNN_SI1129.WAV.n122.wav\n",
       "129    RegressionFCNN_SI1759.WAV.n122.wav\n",
       "132          WaveUNet_SI1759.WAV.n122.wav\n",
       "136           SMoLnet_SI1759.WAV.n121.wav\n",
       "139            WaveUNet_SX49.WAV.n121.wav\n",
       "141           SMoLnet_SI1129.WAV.n122.wav\n",
       "143             DPTNet_SX319.WAV.n122.wav\n",
       "148          WaveUNet_SI1759.WAV.n122.wav\n",
       "153            WaveUNet_SX49.WAV.n121.wav\n",
       "155    RegressionFCNN_SI1759.WAV.n121.wav\n",
       "156           WaveUNet_SX319.WAV.n121.wav\n",
       "160            SMoLnet_SX409.WAV.n122.wav\n",
       "162             DCUNet_SX409.WAV.n122.wav\n",
       "163            SMoLnet_SX409.WAV.n121.wav\n",
       "167            DPTNet_SI1759.WAV.n121.wav\n",
       "168    RegressionFCNN_SI1759.WAV.n122.wav\n",
       "182    RegressionFCNN_SI1129.WAV.n122.wav\n",
       "184          WaveUNet_SI1129.WAV.n122.wav\n",
       "195           SMoLnet_SI1759.WAV.n121.wav\n",
       "196    RegressionFCNN_SI1129.WAV.n122.wav\n",
       "197           WaveUNet_SX409.WAV.n121.wav\n",
       "198           SMoLnet_SI1129.WAV.n121.wav\n",
       "203            SMoLnet_SX409.WAV.n122.wav\n",
       "206            DPTNet_SI1129.WAV.n122.wav\n",
       "210           SMoLnet_SI1759.WAV.n121.wav\n",
       "236           WaveUNet_SX319.WAV.n122.wav\n",
       "Name: preffered_utterance, dtype: object"
      ]
     },
     "execution_count": 5,
     "metadata": {},
     "output_type": "execute_result"
    }
   ],
   "source": [
    "df_10['preffered_utterance']"
   ]
  },
  {
   "cell_type": "code",
   "execution_count": 6,
   "metadata": {},
   "outputs": [],
   "source": [
    "prefered_10db = df_10['preffered_utterance'].apply(lambda x: x.split('_')[0])"
   ]
  },
  {
   "cell_type": "code",
   "execution_count": 7,
   "metadata": {},
   "outputs": [
    {
     "data": {
      "text/plain": [
       "<AxesSubplot:>"
      ]
     },
     "execution_count": 7,
     "metadata": {},
     "output_type": "execute_result"
    },
    {
     "data": {
      "image/png": "[encoded data removed]",
      "text/plain": [
       "<Figure size 432x288 with 1 Axes>"
      ]
     },
     "metadata": {
      "needs_background": "light"
     },
     "output_type": "display_data"
    }
   ],
   "source": [
    "prefered_10db.hist()"
   ]
  },
  {
   "cell_type": "code",
   "execution_count": null,
   "metadata": {},
   "outputs": [],
   "source": []
  }
 ],
 "metadata": {
  "kernelspec": {
   "display_name": "Python 3",
   "language": "python",
   "name": "python3"
  },
  "language_info": {
   "codemirror_mode": {
    "name": "ipython",
    "version": 3
   },
   "file_extension": ".py",
   "mimetype": "text/x-python",
   "name": "python",
   "nbconvert_exporter": "python",
   "pygments_lexer": "ipython3",
   "version": "3.8.5"
  }
 },
 "nbformat": 4,
 "nbformat_minor": 4
}
