{
 "cells": [
  {
   "cell_type": "code",
   "execution_count": 1,
   "metadata": {},
   "outputs": [],
   "source": [
    "import yaml"
   ]
  },
  {
   "cell_type": "code",
   "execution_count": 2,
   "metadata": {},
   "outputs": [],
   "source": [
    "yaml.Dumper.ignore_aliases = lambda *args : True"
   ]
  },
  {
   "cell_type": "code",
   "execution_count": 3,
   "metadata": {},
   "outputs": [],
   "source": [
    "final_dict_template = {\n",
    "    'testname': 'AB Test',\n",
    "     'testId': 'ab_noloop',\n",
    "     'bufferSize': 2048,\n",
    "     'stopOnErrors': True,\n",
    "     'showButtonPreviousPage': True,\n",
    "     'remoteService': 'service/write.php',\n",
    "     'pages': []\n",
    "}"
   ]
  },
  {
   "cell_type": "code",
   "execution_count": 4,
   "metadata": {},
   "outputs": [],
   "source": [
    "pages_dict_template = {'type': 'paired_comparison',\n",
    " 'id': 'trialAB2',\n",
    " 'name': None,\n",
    " 'unforced': None,\n",
    " 'content': 'test description AB',\n",
    " 'showWaveform': True,\n",
    " 'enableLooping': False,\n",
    " 'reference': '',\n",
    " 'stimuli': {'C1': '',\n",
    "  'C2': ''}}"
   ]
  },
  {
   "cell_type": "code",
   "execution_count": 5,
   "metadata": {},
   "outputs": [],
   "source": [
    "final_page_template =  {'type': 'finish',\n",
    "   'name': 'Thank you',\n",
    "   'content': 'Thank you for attending',\n",
    "   'showResults': False,\n",
    "   'writeResults': True}"
   ]
  },
  {
   "cell_type": "code",
   "execution_count": 6,
   "metadata": {},
   "outputs": [],
   "source": [
    "pages_dict_template['reference'] = 'configs/resources/audio/tamasha_mix.wav'"
   ]
  },
  {
   "cell_type": "code",
   "execution_count": 7,
   "metadata": {},
   "outputs": [],
   "source": [
    "pages_dict_template['stimuli']['C1'] = 'configs/resources/audio/test_s1.wav'\n",
    "pages_dict_template['stimuli']['C2'] = 'configs/resources/audio/test_s2.wav'"
   ]
  },
  {
   "cell_type": "code",
   "execution_count": 8,
   "metadata": {},
   "outputs": [],
   "source": [
    "pages = []"
   ]
  },
  {
   "cell_type": "code",
   "execution_count": 9,
   "metadata": {},
   "outputs": [
    {
     "data": {
      "text/plain": [
       "[]"
      ]
     },
     "execution_count": 9,
     "metadata": {},
     "output_type": "execute_result"
    }
   ],
   "source": [
    "pages"
   ]
  },
  {
   "cell_type": "code",
   "execution_count": 10,
   "metadata": {},
   "outputs": [],
   "source": [
    "for _ in range(3):\n",
    "    pages.append(pages_dict_template)\n",
    "pages.append(final_page_template)"
   ]
  },
  {
   "cell_type": "code",
   "execution_count": 11,
   "metadata": {},
   "outputs": [],
   "source": [
    "final_dict_template['pages'] = pages"
   ]
  },
  {
   "cell_type": "code",
   "execution_count": 12,
   "metadata": {},
   "outputs": [
    {
     "data": {
      "text/plain": [
       "{'testname': 'AB Test',\n",
       " 'testId': 'ab_noloop',\n",
       " 'bufferSize': 2048,\n",
       " 'stopOnErrors': True,\n",
       " 'showButtonPreviousPage': True,\n",
       " 'remoteService': 'service/write.php',\n",
       " 'pages': [{'type': 'paired_comparison',\n",
       "   'id': 'trialAB2',\n",
       "   'name': None,\n",
       "   'unforced': None,\n",
       "   'content': 'test description AB',\n",
       "   'showWaveform': True,\n",
       "   'enableLooping': False,\n",
       "   'reference': 'configs/resources/audio/tamasha_mix.wav',\n",
       "   'stimuli': {'C1': 'configs/resources/audio/test_s1.wav',\n",
       "    'C2': 'configs/resources/audio/test_s2.wav'}},\n",
       "  {'type': 'paired_comparison',\n",
       "   'id': 'trialAB2',\n",
       "   'name': None,\n",
       "   'unforced': None,\n",
       "   'content': 'test description AB',\n",
       "   'showWaveform': True,\n",
       "   'enableLooping': False,\n",
       "   'reference': 'configs/resources/audio/tamasha_mix.wav',\n",
       "   'stimuli': {'C1': 'configs/resources/audio/test_s1.wav',\n",
       "    'C2': 'configs/resources/audio/test_s2.wav'}},\n",
       "  {'type': 'paired_comparison',\n",
       "   'id': 'trialAB2',\n",
       "   'name': None,\n",
       "   'unforced': None,\n",
       "   'content': 'test description AB',\n",
       "   'showWaveform': True,\n",
       "   'enableLooping': False,\n",
       "   'reference': 'configs/resources/audio/tamasha_mix.wav',\n",
       "   'stimuli': {'C1': 'configs/resources/audio/test_s1.wav',\n",
       "    'C2': 'configs/resources/audio/test_s2.wav'}},\n",
       "  {'type': 'finish',\n",
       "   'name': 'Thank you',\n",
       "   'content': 'Thank you for attending',\n",
       "   'showResults': False,\n",
       "   'writeResults': True}]}"
      ]
     },
     "execution_count": 12,
     "metadata": {},
     "output_type": "execute_result"
    }
   ],
   "source": [
    "final_dict_template"
   ]
  },
  {
   "cell_type": "code",
   "execution_count": 16,
   "metadata": {},
   "outputs": [],
   "source": [
    "with open('/Users/ashishalex/Documents/research/web_drone_project/webmushra/configs/test.yaml', 'w') as file:\n",
    "    yaml.dump(final_dict_template, file)"
   ]
  },
  {
   "cell_type": "code",
   "execution_count": null,
   "metadata": {},
   "outputs": [],
   "source": []
  },
  {
   "cell_type": "code",
   "execution_count": null,
   "metadata": {},
   "outputs": [],
   "source": []
  },
  {
   "cell_type": "code",
   "execution_count": null,
   "metadata": {},
   "outputs": [],
   "source": []
  }
 ],
 "metadata": {
  "kernelspec": {
   "display_name": "Python 3",
   "language": "python",
   "name": "python3"
  },
  "language_info": {
   "codemirror_mode": {
    "name": "ipython",
    "version": 3
   },
   "file_extension": ".py",
   "mimetype": "text/x-python",
   "name": "python",
   "nbconvert_exporter": "python",
   "pygments_lexer": "ipython3",
   "version": "3.7.10"
  }
 },
 "nbformat": 4,
 "nbformat_minor": 4
}
