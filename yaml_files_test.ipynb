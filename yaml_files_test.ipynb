{
 "cells": [
  {
   "cell_type": "code",
   "execution_count": null,
   "metadata": {},
   "outputs": [],
   "source": [
    "import yaml"
   ]
  },
  {
   "cell_type": "code",
   "execution_count": null,
   "metadata": {},
   "outputs": [],
   "source": [
    "yaml.Dumper.ignore_aliases = lambda *args : True"
   ]
  },
  {
   "cell_type": "code",
   "execution_count": null,
   "metadata": {},
   "outputs": [],
   "source": [
    "final_dict_template = {\n",
    "    'testname': 'AB Test',\n",
    "     'testId': 'ab_noloop',\n",
    "     'bufferSize': 2048,\n",
    "     'stopOnErrors': True,\n",
    "     'showButtonPreviousPage': True,\n",
    "     'remoteService': 'service/write.php',\n",
    "     'pages': []\n",
    "}"
   ]
  },
  {
   "cell_type": "code",
   "execution_count": null,
   "metadata": {},
   "outputs": [],
   "source": [
    "pages_dict_template = {'type': 'paired_comparison',\n",
    " 'id': 'trialAB2',\n",
    " 'name': None,\n",
    " 'unforced': None,\n",
    " 'content': 'test description AB',\n",
    " 'showWaveform': True,\n",
    " 'enableLooping': False,\n",
    " 'reference': '',\n",
    " 'stimuli': {'C1': '',\n",
    "  'C2': ''}}"
   ]
  },
  {
   "cell_type": "code",
   "execution_count": null,
   "metadata": {},
   "outputs": [],
   "source": [
    "final_page_template =  {'type': 'finish',\n",
    "   'name': 'Thank you',\n",
    "   'content': 'Thank you for attending',\n",
    "   'showResults': False,\n",
    "   'writeResults': True}"
   ]
  },
  {
   "cell_type": "code",
   "execution_count": null,
   "metadata": {},
   "outputs": [],
   "source": [
    "# pages_dict_template['reference'] = 'configs/resources/audio/tamasha_mix.wav'"
   ]
  },
  {
   "cell_type": "code",
   "execution_count": null,
   "metadata": {},
   "outputs": [],
   "source": [
    "# pages_dict_template['stimuli']['C1'] = 'configs/resources/audio/test_s1.wav'\n",
    "# pages_dict_template['stimuli']['C2'] = 'configs/resources/audio/test_s2.wav'"
   ]
  },
  {
   "cell_type": "code",
   "execution_count": null,
   "metadata": {},
   "outputs": [],
   "source": [
    "# pages = []"
   ]
  },
  {
   "cell_type": "code",
   "execution_count": null,
   "metadata": {},
   "outputs": [],
   "source": [
    "# for _ in range(3):\n",
    "#     pages.append(pages_dict_template)\n",
    "# pages.append(final_page_template)"
   ]
  },
  {
   "cell_type": "code",
   "execution_count": null,
   "metadata": {},
   "outputs": [],
   "source": [
    "# final_dict_template['pages'] = pages"
   ]
  },
  {
   "cell_type": "code",
   "execution_count": null,
   "metadata": {},
   "outputs": [],
   "source": [
    "# final_dict_template"
   ]
  },
  {
   "cell_type": "code",
   "execution_count": null,
   "metadata": {},
   "outputs": [],
   "source": [
    "with open('/Users/ashishalex/Documents/research/web_drone_project/webmushra/configs/test.yaml', 'w') as file:\n",
    "    yaml.dump(final_dict_template, file)"
   ]
  },
  {
   "cell_type": "markdown",
   "metadata": {},
   "source": [
    "# CSV to pairs"
   ]
  },
  {
   "cell_type": "code",
   "execution_count": 2,
   "metadata": {},
   "outputs": [],
   "source": [
    "wavs =  [\"Jalg1.wav\", \"Jalg2.wav\", \"Jalg3.wav\"]"
   ]
  },
  {
   "cell_type": "code",
   "execution_count": 3,
   "metadata": {},
   "outputs": [],
   "source": [
    "import itertools\n",
    "combinations = list(itertools.combinations(wavs, 2))"
   ]
  },
  {
   "cell_type": "code",
   "execution_count": 4,
   "metadata": {},
   "outputs": [
    {
     "name": "stdout",
     "output_type": "stream",
     "text": [
      "Jalg1.wav Jalg2.wav\n",
      "Jalg1.wav Jalg3.wav\n",
      "Jalg2.wav Jalg3.wav\n"
     ]
    }
   ],
   "source": [
    "for combination in combinations:\n",
    "    print(combination[0], combination[1])"
   ]
  },
  {
   "cell_type": "markdown",
   "metadata": {},
   "source": [
    "```\n",
    "[-10, -15, -20, -25]\n",
    "\n",
    "[-10]dB\n",
    "\n",
    "select 100 samples\n",
    "alg_1 --\n",
    "\n",
    "[alg_1_d1.wav], [alg_2_d1.wav], ..., [alg_n_d1.wav]\n",
    "[alg_1_d2.wav], [alg_2_d2.wav], ..., [alg_n_d1.wav]\n",
    "[alg_1_d3.wav], [alg_2_d3.wav], ..., [alg_n_d1.wav]\n",
    ".\n",
    ".\n",
    ".\n",
    "[alg_1_d100.wav], [alg_2_d4.wav], ..., [alg_n_d1.wav]\n",
    "```"
   ]
  },
  {
   "cell_type": "code",
   "execution_count": 104,
   "metadata": {},
   "outputs": [],
   "source": [
    "snr_items= {}\n",
    "snrs = [-10, -15, -20, -25]"
   ]
  },
  {
   "cell_type": "code",
   "execution_count": 102,
   "metadata": {},
   "outputs": [],
   "source": [
    "items = []\n",
    "# items = [str(\"alg_{}_utt1_snr10.wav\".format(n)) for n  in range(6)]"
   ]
  },
  {
   "cell_type": "code",
   "execution_count": 112,
   "metadata": {},
   "outputs": [],
   "source": [
    "for j in range(len(snrs)):\n",
    "    snr_items[snrs[j]] = [str(\"alg_{}_utt1_snr{}.wav\".format(n+1, snrs[j])) for n  in range(6)]"
   ]
  },
  {
   "cell_type": "code",
   "execution_count": 113,
   "metadata": {},
   "outputs": [
    {
     "data": {
      "text/plain": [
       "{-10: ['alg_1_utt1_snr-10.wav',\n",
       "  'alg_2_utt1_snr-10.wav',\n",
       "  'alg_3_utt1_snr-10.wav',\n",
       "  'alg_4_utt1_snr-10.wav',\n",
       "  'alg_5_utt1_snr-10.wav',\n",
       "  'alg_6_utt1_snr-10.wav'],\n",
       " -15: ['alg_1_utt1_snr-15.wav',\n",
       "  'alg_2_utt1_snr-15.wav',\n",
       "  'alg_3_utt1_snr-15.wav',\n",
       "  'alg_4_utt1_snr-15.wav',\n",
       "  'alg_5_utt1_snr-15.wav',\n",
       "  'alg_6_utt1_snr-15.wav'],\n",
       " -20: ['alg_1_utt1_snr-20.wav',\n",
       "  'alg_2_utt1_snr-20.wav',\n",
       "  'alg_3_utt1_snr-20.wav',\n",
       "  'alg_4_utt1_snr-20.wav',\n",
       "  'alg_5_utt1_snr-20.wav',\n",
       "  'alg_6_utt1_snr-20.wav'],\n",
       " -25: ['alg_1_utt1_snr-25.wav',\n",
       "  'alg_2_utt1_snr-25.wav',\n",
       "  'alg_3_utt1_snr-25.wav',\n",
       "  'alg_4_utt1_snr-25.wav',\n",
       "  'alg_5_utt1_snr-25.wav',\n",
       "  'alg_6_utt1_snr-25.wav']}"
      ]
     },
     "execution_count": 113,
     "metadata": {},
     "output_type": "execute_result"
    }
   ],
   "source": [
    "snr_items"
   ]
  },
  {
   "cell_type": "code",
   "execution_count": 122,
   "metadata": {},
   "outputs": [],
   "source": [
    "items = []\n",
    "items = [str(\"alg_{}_utt1_snr10.wav\".format(n+1)) for n  in range(6)]"
   ]
  },
  {
   "cell_type": "code",
   "execution_count": 123,
   "metadata": {},
   "outputs": [],
   "source": [
    "#get wav files for each algorithm in pairs of two \n",
    "items = list(itertools.combinations(items, 2))"
   ]
  },
  {
   "cell_type": "code",
   "execution_count": 124,
   "metadata": {},
   "outputs": [
    {
     "data": {
      "text/plain": [
       "[('alg_1_utt1_snr10.wav', 'alg_2_utt1_snr10.wav'),\n",
       " ('alg_1_utt1_snr10.wav', 'alg_3_utt1_snr10.wav'),\n",
       " ('alg_1_utt1_snr10.wav', 'alg_4_utt1_snr10.wav'),\n",
       " ('alg_1_utt1_snr10.wav', 'alg_5_utt1_snr10.wav'),\n",
       " ('alg_1_utt1_snr10.wav', 'alg_6_utt1_snr10.wav'),\n",
       " ('alg_2_utt1_snr10.wav', 'alg_3_utt1_snr10.wav'),\n",
       " ('alg_2_utt1_snr10.wav', 'alg_4_utt1_snr10.wav'),\n",
       " ('alg_2_utt1_snr10.wav', 'alg_5_utt1_snr10.wav'),\n",
       " ('alg_2_utt1_snr10.wav', 'alg_6_utt1_snr10.wav'),\n",
       " ('alg_3_utt1_snr10.wav', 'alg_4_utt1_snr10.wav'),\n",
       " ('alg_3_utt1_snr10.wav', 'alg_5_utt1_snr10.wav'),\n",
       " ('alg_3_utt1_snr10.wav', 'alg_6_utt1_snr10.wav'),\n",
       " ('alg_4_utt1_snr10.wav', 'alg_5_utt1_snr10.wav'),\n",
       " ('alg_4_utt1_snr10.wav', 'alg_6_utt1_snr10.wav'),\n",
       " ('alg_5_utt1_snr10.wav', 'alg_6_utt1_snr10.wav')]"
      ]
     },
     "execution_count": 124,
     "metadata": {},
     "output_type": "execute_result"
    }
   ],
   "source": [
    "items"
   ]
  },
  {
   "cell_type": "code",
   "execution_count": 91,
   "metadata": {},
   "outputs": [
    {
     "data": {
      "text/plain": [
       "60"
      ]
     },
     "execution_count": 91,
     "metadata": {},
     "output_type": "execute_result"
    }
   ],
   "source": [
    "15 * 4"
   ]
  },
  {
   "cell_type": "code",
   "execution_count": 126,
   "metadata": {},
   "outputs": [
    {
     "data": {
      "text/plain": [
       "20.0"
      ]
     },
     "execution_count": 126,
     "metadata": {},
     "output_type": "execute_result"
    }
   ],
   "source": [
    "1200 / 60"
   ]
  },
  {
   "cell_type": "markdown",
   "metadata": {},
   "source": [
    "60 samples for each SNR \n",
    "\n",
    "\n"
   ]
  },
  {
   "cell_type": "markdown",
   "metadata": {},
   "source": [
    "100 / 4 = 25 samples from each snr"
   ]
  },
  {
   "cell_type": "code",
   "execution_count": 121,
   "metadata": {},
   "outputs": [
    {
     "data": {
      "text/plain": [
       "1200"
      ]
     },
     "execution_count": 121,
     "metadata": {},
     "output_type": "execute_result"
    }
   ],
   "source": [
    "25 * 12 * 4"
   ]
  },
  {
   "cell_type": "code",
   "execution_count": null,
   "metadata": {},
   "outputs": [],
   "source": []
  },
  {
   "cell_type": "code",
   "execution_count": 92,
   "metadata": {},
   "outputs": [],
   "source": [
    "final_dict_template = {\n",
    "'testname': 'AB Test',\n",
    " 'testId': 'ab_noloop',\n",
    " 'bufferSize': 2048,\n",
    " 'stopOnErrors': True,\n",
    " 'showButtonPreviousPage': True,\n",
    " 'remoteService': 'service/write.php',\n",
    " 'pages': []\n",
    "}\n",
    "pages_dict_template = {'type': 'paired_comparison',\n",
    " 'id': 'trialAB2',\n",
    " 'name': None,\n",
    " 'unforced': None,\n",
    " 'content': 'test description AB',\n",
    " 'showWaveform': True,\n",
    " 'enableLooping': False,\n",
    " 'reference': '',\n",
    " 'stimuli': {'C1': '',\n",
    "  'C2': ''}}\n",
    "final_page_template =  {'type': 'finish',\n",
    "   'name': 'Thank you',\n",
    "   'content': 'Thank you for attending',\n",
    "   'showResults': False,\n",
    "   'writeResults': True\n",
    "}"
   ]
  },
  {
   "cell_type": "code",
   "execution_count": 96,
   "metadata": {},
   "outputs": [],
   "source": [
    "def make_yaml_file():\n",
    "    pages=[]\n",
    "    for i in range(len(items)):\n",
    "        pages_dict_template = {'type': 'paired_comparison',\n",
    "         'id': 'trialAB2',\n",
    "         'name': None,\n",
    "         'unforced': None,\n",
    "         'content': 'test description AB',\n",
    "         'showWaveform': True,\n",
    "         'enableLooping': False,\n",
    "         'reference': '',\n",
    "         'stimuli': {'C1': '',\n",
    "          'C2': ''}}\n",
    "#         print(pages_dict_template)\n",
    "        pages.append(pages_dict_template)\n",
    "        pages[i]['reference'] = 'configs/resources/audio/utt_1.wav'\n",
    "        pages[i]['stimuli']['C1'] = items[i][0]\n",
    "        pages[i]['stimuli']['C2'] = items[i][1]\n",
    "#     print(pages)\n",
    "    final_dict_template['pages'] = pages\n",
    "    return final_dict_template"
   ]
  },
  {
   "cell_type": "code",
   "execution_count": 97,
   "metadata": {},
   "outputs": [],
   "source": [
    "final_template = make_yaml_file()"
   ]
  },
  {
   "cell_type": "code",
   "execution_count": 98,
   "metadata": {},
   "outputs": [
    {
     "data": {
      "text/plain": [
       "{'testname': 'AB Test',\n",
       " 'testId': 'ab_noloop',\n",
       " 'bufferSize': 2048,\n",
       " 'stopOnErrors': True,\n",
       " 'showButtonPreviousPage': True,\n",
       " 'remoteService': 'service/write.php',\n",
       " 'pages': [{'type': 'paired_comparison',\n",
       "   'id': 'trialAB2',\n",
       "   'name': None,\n",
       "   'unforced': None,\n",
       "   'content': 'test description AB',\n",
       "   'showWaveform': True,\n",
       "   'enableLooping': False,\n",
       "   'reference': 'configs/resources/audio/utt_1.wav',\n",
       "   'stimuli': {'C1': 'alg_0_utt1_snr10.wav', 'C2': 'alg_1_utt1_snr10.wav'}},\n",
       "  {'type': 'paired_comparison',\n",
       "   'id': 'trialAB2',\n",
       "   'name': None,\n",
       "   'unforced': None,\n",
       "   'content': 'test description AB',\n",
       "   'showWaveform': True,\n",
       "   'enableLooping': False,\n",
       "   'reference': 'configs/resources/audio/utt_1.wav',\n",
       "   'stimuli': {'C1': 'alg_0_utt1_snr10.wav', 'C2': 'alg_2_utt1_snr10.wav'}},\n",
       "  {'type': 'paired_comparison',\n",
       "   'id': 'trialAB2',\n",
       "   'name': None,\n",
       "   'unforced': None,\n",
       "   'content': 'test description AB',\n",
       "   'showWaveform': True,\n",
       "   'enableLooping': False,\n",
       "   'reference': 'configs/resources/audio/utt_1.wav',\n",
       "   'stimuli': {'C1': 'alg_0_utt1_snr10.wav', 'C2': 'alg_3_utt1_snr10.wav'}},\n",
       "  {'type': 'paired_comparison',\n",
       "   'id': 'trialAB2',\n",
       "   'name': None,\n",
       "   'unforced': None,\n",
       "   'content': 'test description AB',\n",
       "   'showWaveform': True,\n",
       "   'enableLooping': False,\n",
       "   'reference': 'configs/resources/audio/utt_1.wav',\n",
       "   'stimuli': {'C1': 'alg_0_utt1_snr10.wav', 'C2': 'alg_4_utt1_snr10.wav'}},\n",
       "  {'type': 'paired_comparison',\n",
       "   'id': 'trialAB2',\n",
       "   'name': None,\n",
       "   'unforced': None,\n",
       "   'content': 'test description AB',\n",
       "   'showWaveform': True,\n",
       "   'enableLooping': False,\n",
       "   'reference': 'configs/resources/audio/utt_1.wav',\n",
       "   'stimuli': {'C1': 'alg_0_utt1_snr10.wav', 'C2': 'alg_5_utt1_snr10.wav'}},\n",
       "  {'type': 'paired_comparison',\n",
       "   'id': 'trialAB2',\n",
       "   'name': None,\n",
       "   'unforced': None,\n",
       "   'content': 'test description AB',\n",
       "   'showWaveform': True,\n",
       "   'enableLooping': False,\n",
       "   'reference': 'configs/resources/audio/utt_1.wav',\n",
       "   'stimuli': {'C1': 'alg_1_utt1_snr10.wav', 'C2': 'alg_2_utt1_snr10.wav'}},\n",
       "  {'type': 'paired_comparison',\n",
       "   'id': 'trialAB2',\n",
       "   'name': None,\n",
       "   'unforced': None,\n",
       "   'content': 'test description AB',\n",
       "   'showWaveform': True,\n",
       "   'enableLooping': False,\n",
       "   'reference': 'configs/resources/audio/utt_1.wav',\n",
       "   'stimuli': {'C1': 'alg_1_utt1_snr10.wav', 'C2': 'alg_3_utt1_snr10.wav'}},\n",
       "  {'type': 'paired_comparison',\n",
       "   'id': 'trialAB2',\n",
       "   'name': None,\n",
       "   'unforced': None,\n",
       "   'content': 'test description AB',\n",
       "   'showWaveform': True,\n",
       "   'enableLooping': False,\n",
       "   'reference': 'configs/resources/audio/utt_1.wav',\n",
       "   'stimuli': {'C1': 'alg_1_utt1_snr10.wav', 'C2': 'alg_4_utt1_snr10.wav'}},\n",
       "  {'type': 'paired_comparison',\n",
       "   'id': 'trialAB2',\n",
       "   'name': None,\n",
       "   'unforced': None,\n",
       "   'content': 'test description AB',\n",
       "   'showWaveform': True,\n",
       "   'enableLooping': False,\n",
       "   'reference': 'configs/resources/audio/utt_1.wav',\n",
       "   'stimuli': {'C1': 'alg_1_utt1_snr10.wav', 'C2': 'alg_5_utt1_snr10.wav'}},\n",
       "  {'type': 'paired_comparison',\n",
       "   'id': 'trialAB2',\n",
       "   'name': None,\n",
       "   'unforced': None,\n",
       "   'content': 'test description AB',\n",
       "   'showWaveform': True,\n",
       "   'enableLooping': False,\n",
       "   'reference': 'configs/resources/audio/utt_1.wav',\n",
       "   'stimuli': {'C1': 'alg_2_utt1_snr10.wav', 'C2': 'alg_3_utt1_snr10.wav'}},\n",
       "  {'type': 'paired_comparison',\n",
       "   'id': 'trialAB2',\n",
       "   'name': None,\n",
       "   'unforced': None,\n",
       "   'content': 'test description AB',\n",
       "   'showWaveform': True,\n",
       "   'enableLooping': False,\n",
       "   'reference': 'configs/resources/audio/utt_1.wav',\n",
       "   'stimuli': {'C1': 'alg_2_utt1_snr10.wav', 'C2': 'alg_4_utt1_snr10.wav'}},\n",
       "  {'type': 'paired_comparison',\n",
       "   'id': 'trialAB2',\n",
       "   'name': None,\n",
       "   'unforced': None,\n",
       "   'content': 'test description AB',\n",
       "   'showWaveform': True,\n",
       "   'enableLooping': False,\n",
       "   'reference': 'configs/resources/audio/utt_1.wav',\n",
       "   'stimuli': {'C1': 'alg_2_utt1_snr10.wav', 'C2': 'alg_5_utt1_snr10.wav'}},\n",
       "  {'type': 'paired_comparison',\n",
       "   'id': 'trialAB2',\n",
       "   'name': None,\n",
       "   'unforced': None,\n",
       "   'content': 'test description AB',\n",
       "   'showWaveform': True,\n",
       "   'enableLooping': False,\n",
       "   'reference': 'configs/resources/audio/utt_1.wav',\n",
       "   'stimuli': {'C1': 'alg_3_utt1_snr10.wav', 'C2': 'alg_4_utt1_snr10.wav'}},\n",
       "  {'type': 'paired_comparison',\n",
       "   'id': 'trialAB2',\n",
       "   'name': None,\n",
       "   'unforced': None,\n",
       "   'content': 'test description AB',\n",
       "   'showWaveform': True,\n",
       "   'enableLooping': False,\n",
       "   'reference': 'configs/resources/audio/utt_1.wav',\n",
       "   'stimuli': {'C1': 'alg_3_utt1_snr10.wav', 'C2': 'alg_5_utt1_snr10.wav'}},\n",
       "  {'type': 'paired_comparison',\n",
       "   'id': 'trialAB2',\n",
       "   'name': None,\n",
       "   'unforced': None,\n",
       "   'content': 'test description AB',\n",
       "   'showWaveform': True,\n",
       "   'enableLooping': False,\n",
       "   'reference': 'configs/resources/audio/utt_1.wav',\n",
       "   'stimuli': {'C1': 'alg_4_utt1_snr10.wav', 'C2': 'alg_5_utt1_snr10.wav'}}]}"
      ]
     },
     "execution_count": 98,
     "metadata": {},
     "output_type": "execute_result"
    }
   ],
   "source": [
    "final_template"
   ]
  },
  {
   "cell_type": "code",
   "execution_count": 100,
   "metadata": {},
   "outputs": [
    {
     "data": {
      "text/plain": [
       "15"
      ]
     },
     "execution_count": 100,
     "metadata": {},
     "output_type": "execute_result"
    }
   ],
   "source": [
    "len(final_template['pages'])"
   ]
  },
  {
   "cell_type": "code",
   "execution_count": null,
   "metadata": {},
   "outputs": [],
   "source": []
  },
  {
   "cell_type": "code",
   "execution_count": null,
   "metadata": {},
   "outputs": [],
   "source": []
  }
 ],
 "metadata": {
  "kernelspec": {
   "display_name": "Python 3",
   "language": "python",
   "name": "python3"
  },
  "language_info": {
   "codemirror_mode": {
    "name": "ipython",
    "version": 3
   },
   "file_extension": ".py",
   "mimetype": "text/x-python",
   "name": "python",
   "nbconvert_exporter": "python",
   "pygments_lexer": "ipython3",
   "version": "3.7.10"
  }
 },
 "nbformat": 4,
 "nbformat_minor": 4
}
