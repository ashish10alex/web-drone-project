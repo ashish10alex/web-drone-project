{
 "cells": [
  {
   "cell_type": "markdown",
   "metadata": {},
   "source": [
    "This script assumes a structure in which audio files are stored \n",
    "```\n",
    "Drone_Noise_Test_Data\n",
    "├── drone_noise_out\n",
    "│   ├── DCUNet\n",
    "│   ├── DPTNet\n",
    "│   ├── RegressionFCNN\n",
    "│   ├── SMoLnet\n",
    "│   └── WaveUNet\n",
    "└── test_noisy_drone_cache\n",
    "    ├── -10db\n",
    "    ├── -15db\n",
    "    ├── -20db\n",
    "    ├── -25db\n",
    "    ├── -30db\n",
    "    ├── -5db\n",
    "    └── 0db\n",
    " \n",
    "Where  -\n",
    "\n",
    "drone_noise_out/\n",
    "├── DCUNet\n",
    "│   ├── -10dB\n",
    "│   ├── -15dB\n",
    "│   ├── -20dB\n",
    "│   ├── -25dB\n",
    "│   ├── -30dB\n",
    "│   ├── -5dB\n",
    "│   └── 0dB\n",
    "├── DPTNet\n",
    "│   ├── -10dB\n",
    "│   ├── -15dB\n",
    "│   ├── -20dB\n",
    "│   ├── -25dB\n",
    "│   ├── -30dB\n",
    "│   ├── -5dB\n",
    "│   └── 0dB\n",
    "├── RegressionFCNN\n",
    "│   ├── -10dB\n",
    "│   ├── -15dB\n",
    "│   ├── -20dB\n",
    "│   ├── -25dB\n",
    "│   ├── -30dB\n",
    "│   ├── -5dB\n",
    "│   └── 0dB\n",
    "├── SMoLnet\n",
    "│   ├── -10dB\n",
    "│   ├── -15dB\n",
    "│   ├── -20dB\n",
    "│   ├── -25dB\n",
    "│   ├── -30dB\n",
    "│   ├── -5dB\n",
    "│   └── 0dB\n",
    "└── WaveUNet\n",
    "    ├── -10dB\n",
    "    ├── -15dB\n",
    "    ├── -20dB\n",
    "    ├── -25dB\n",
    "    ├── -30dB\n",
    "    ├── -5dB\n",
    "    └── 0dB\n",
    "```"
   ]
  },
  {
   "cell_type": "code",
   "execution_count": 1,
   "metadata": {},
   "outputs": [],
   "source": [
    "import pandas as pd\n",
    "import matplotlib.pyplot as plt\n",
    "#show all data in the dataframe untruncated\n",
    "import librosa\n",
    "pd.set_option('display.max_colwidth', None)\n",
    "import random\n",
    "from IPython.display import Audio"
   ]
  },
  {
   "cell_type": "code",
   "execution_count": 2,
   "metadata": {},
   "outputs": [],
   "source": [
    "models =['DCUNet', 'DPTNet', 'RegressionFCNN', 'SMoLnet', 'WaveUNet']"
   ]
  },
  {
   "cell_type": "code",
   "execution_count": 3,
   "metadata": {},
   "outputs": [],
   "source": [
    "csv_path = '/Users/ashishalex/Documents/Drone_Noise_Test_Data/drone_noise_out/DPTNet/0dB/DPTNet_snr0dB.csv'\n",
    "base_path = '/Users/ashishalex/Documents/Drone_Noise_Test_Data/'"
   ]
  },
  {
   "cell_type": "code",
   "execution_count": 4,
   "metadata": {},
   "outputs": [],
   "source": [
    "df = pd.read_csv(csv_path,  index_col=0)"
   ]
  },
  {
   "cell_type": "code",
   "execution_count": 5,
   "metadata": {},
   "outputs": [
    {
     "data": {
      "text/html": [
       "<div>\n",
       "<style scoped>\n",
       "    .dataframe tbody tr th:only-of-type {\n",
       "        vertical-align: middle;\n",
       "    }\n",
       "\n",
       "    .dataframe tbody tr th {\n",
       "        vertical-align: top;\n",
       "    }\n",
       "\n",
       "    .dataframe thead th {\n",
       "        text-align: right;\n",
       "    }\n",
       "</style>\n",
       "<table border=\"1\" class=\"dataframe\">\n",
       "  <thead>\n",
       "    <tr style=\"text-align: right;\">\n",
       "      <th></th>\n",
       "      <th>mix_path</th>\n",
       "      <th>clean_idx</th>\n",
       "      <th>noise_idx</th>\n",
       "      <th>clean_offset</th>\n",
       "      <th>noise_offset</th>\n",
       "      <th>denoised_path</th>\n",
       "    </tr>\n",
       "  </thead>\n",
       "  <tbody>\n",
       "    <tr>\n",
       "      <th>0</th>\n",
       "      <td>/jmain01/home/JAD007/txk02/aaa18-txk02/Datasets/test_noisy_drone_cache/0db/data/TEST/DR4/MGMM0/SX139.WAV.n121.wav</td>\n",
       "      <td>0</td>\n",
       "      <td>1</td>\n",
       "      <td>8054985</td>\n",
       "      <td>4991806</td>\n",
       "      <td>/jmain01/home/JAD007/txk02/aaa18-txk02/Datasets/drone_noise_out//DPTNet/0dB/data/DPTNet_SX139.WAV.n121.wav</td>\n",
       "    </tr>\n",
       "    <tr>\n",
       "      <th>1</th>\n",
       "      <td>/jmain01/home/JAD007/txk02/aaa18-txk02/Datasets/test_noisy_drone_cache/0db/data/TEST/DR4/MGMM0/SX139.WAV.n122.wav</td>\n",
       "      <td>0</td>\n",
       "      <td>0</td>\n",
       "      <td>1768580</td>\n",
       "      <td>3401884</td>\n",
       "      <td>/jmain01/home/JAD007/txk02/aaa18-txk02/Datasets/drone_noise_out//DPTNet/0dB/data/DPTNet_SX139.WAV.n122.wav</td>\n",
       "    </tr>\n",
       "    <tr>\n",
       "      <th>2</th>\n",
       "      <td>/jmain01/home/JAD007/txk02/aaa18-txk02/Datasets/test_noisy_drone_cache/0db/data/TEST/DR4/MGMM0/SI1129.WAV.n121.wav</td>\n",
       "      <td>1</td>\n",
       "      <td>1</td>\n",
       "      <td>6892069</td>\n",
       "      <td>7601931</td>\n",
       "      <td>/jmain01/home/JAD007/txk02/aaa18-txk02/Datasets/drone_noise_out//DPTNet/0dB/data/DPTNet_SI1129.WAV.n121.wav</td>\n",
       "    </tr>\n",
       "    <tr>\n",
       "      <th>3</th>\n",
       "      <td>/jmain01/home/JAD007/txk02/aaa18-txk02/Datasets/test_noisy_drone_cache/0db/data/TEST/DR4/MGMM0/SI1129.WAV.n122.wav</td>\n",
       "      <td>1</td>\n",
       "      <td>0</td>\n",
       "      <td>2502431</td>\n",
       "      <td>8535715</td>\n",
       "      <td>/jmain01/home/JAD007/txk02/aaa18-txk02/Datasets/drone_noise_out//DPTNet/0dB/data/DPTNet_SI1129.WAV.n122.wav</td>\n",
       "    </tr>\n",
       "    <tr>\n",
       "      <th>4</th>\n",
       "      <td>/jmain01/home/JAD007/txk02/aaa18-txk02/Datasets/test_noisy_drone_cache/0db/data/TEST/DR4/MGMM0/SX319.WAV.n122.wav</td>\n",
       "      <td>2</td>\n",
       "      <td>0</td>\n",
       "      <td>5672</td>\n",
       "      <td>4820975</td>\n",
       "      <td>/jmain01/home/JAD007/txk02/aaa18-txk02/Datasets/drone_noise_out//DPTNet/0dB/data/DPTNet_SX319.WAV.n122.wav</td>\n",
       "    </tr>\n",
       "  </tbody>\n",
       "</table>\n",
       "</div>"
      ],
      "text/plain": [
       "                                                                                                             mix_path  \\\n",
       "0   /jmain01/home/JAD007/txk02/aaa18-txk02/Datasets/test_noisy_drone_cache/0db/data/TEST/DR4/MGMM0/SX139.WAV.n121.wav   \n",
       "1   /jmain01/home/JAD007/txk02/aaa18-txk02/Datasets/test_noisy_drone_cache/0db/data/TEST/DR4/MGMM0/SX139.WAV.n122.wav   \n",
       "2  /jmain01/home/JAD007/txk02/aaa18-txk02/Datasets/test_noisy_drone_cache/0db/data/TEST/DR4/MGMM0/SI1129.WAV.n121.wav   \n",
       "3  /jmain01/home/JAD007/txk02/aaa18-txk02/Datasets/test_noisy_drone_cache/0db/data/TEST/DR4/MGMM0/SI1129.WAV.n122.wav   \n",
       "4   /jmain01/home/JAD007/txk02/aaa18-txk02/Datasets/test_noisy_drone_cache/0db/data/TEST/DR4/MGMM0/SX319.WAV.n122.wav   \n",
       "\n",
       "   clean_idx  noise_idx  clean_offset  noise_offset  \\\n",
       "0          0          1       8054985       4991806   \n",
       "1          0          0       1768580       3401884   \n",
       "2          1          1       6892069       7601931   \n",
       "3          1          0       2502431       8535715   \n",
       "4          2          0          5672       4820975   \n",
       "\n",
       "                                                                                                 denoised_path  \n",
       "0   /jmain01/home/JAD007/txk02/aaa18-txk02/Datasets/drone_noise_out//DPTNet/0dB/data/DPTNet_SX139.WAV.n121.wav  \n",
       "1   /jmain01/home/JAD007/txk02/aaa18-txk02/Datasets/drone_noise_out//DPTNet/0dB/data/DPTNet_SX139.WAV.n122.wav  \n",
       "2  /jmain01/home/JAD007/txk02/aaa18-txk02/Datasets/drone_noise_out//DPTNet/0dB/data/DPTNet_SI1129.WAV.n121.wav  \n",
       "3  /jmain01/home/JAD007/txk02/aaa18-txk02/Datasets/drone_noise_out//DPTNet/0dB/data/DPTNet_SI1129.WAV.n122.wav  \n",
       "4   /jmain01/home/JAD007/txk02/aaa18-txk02/Datasets/drone_noise_out//DPTNet/0dB/data/DPTNet_SX319.WAV.n122.wav  "
      ]
     },
     "execution_count": 5,
     "metadata": {},
     "output_type": "execute_result"
    }
   ],
   "source": [
    "df.head()"
   ]
  },
  {
   "cell_type": "code",
   "execution_count": 6,
   "metadata": {},
   "outputs": [
    {
     "name": "stdout",
     "output_type": "stream",
     "text": [
      "example new path:  /Users/ashishalex/Documents/Drone_Noise_Test_Data/test_noisy_drone_cache/0db/data/TEST/DR4/MGMM0/SX139.WAV.n121.wav\n"
     ]
    }
   ],
   "source": [
    "#convert the path from server path to local Desktop path\n",
    "base_path = '/Users/ashishalex/Documents/Drone_Noise_Test_Data/'\n",
    "df['mix_path'] = df['mix_path'].apply(lambda mpath: base_path + '/'.join(mpath.split('/')[-7:]))\n",
    "print('example new path: ', df['mix_path'][0])"
   ]
  },
  {
   "cell_type": "markdown",
   "metadata": {},
   "source": [
    "### Get denoised audio file from listed models"
   ]
  },
  {
   "cell_type": "code",
   "execution_count": 7,
   "metadata": {},
   "outputs": [],
   "source": [
    "#'DCUNet', 'DPTNet', 'RegressionFCNN', 'SMoLnet', 'WaveUNet'\n",
    "path_dict ={\n",
    "    'Input':[],\n",
    "    'DCUNet':[], \n",
    "    'DPTNet':[], \n",
    "    'RegressionFCNN':[], \n",
    "    'SMoLnet':[],\n",
    "    'WaveUNet':[]\n",
    "} "
   ]
  },
  {
   "cell_type": "code",
   "execution_count": 8,
   "metadata": {},
   "outputs": [],
   "source": [
    "for i, file in enumerate(df['mix_path']):\n",
    "    audio_file = file.split('/')[-1] # 'SI769.WAV.n122.wav'\n",
    "    path_dict['Input'].append(file)\n",
    "    for model_name in models:\n",
    "        path = f'{base_path}/drone_noise_out//{model_name}/0db/data/{model_name}_{audio_file}'\n",
    "        path_dict[model_name].append(path)\n",
    "#     print(i, file)\n",
    "    if i == 50: break"
   ]
  },
  {
   "cell_type": "code",
   "execution_count": null,
   "metadata": {},
   "outputs": [],
   "source": []
  },
  {
   "cell_type": "code",
   "execution_count": 9,
   "metadata": {},
   "outputs": [],
   "source": [
    "df_final = pd.DataFrame.from_dict(path_dict)"
   ]
  },
  {
   "cell_type": "code",
   "execution_count": 18,
   "metadata": {},
   "outputs": [
    {
     "data": {
      "text/html": [
       "<div>\n",
       "<style scoped>\n",
       "    .dataframe tbody tr th:only-of-type {\n",
       "        vertical-align: middle;\n",
       "    }\n",
       "\n",
       "    .dataframe tbody tr th {\n",
       "        vertical-align: top;\n",
       "    }\n",
       "\n",
       "    .dataframe thead th {\n",
       "        text-align: right;\n",
       "    }\n",
       "</style>\n",
       "<table border=\"1\" class=\"dataframe\">\n",
       "  <thead>\n",
       "    <tr style=\"text-align: right;\">\n",
       "      <th></th>\n",
       "      <th>Input</th>\n",
       "      <th>DCUNet</th>\n",
       "      <th>DPTNet</th>\n",
       "      <th>RegressionFCNN</th>\n",
       "      <th>SMoLnet</th>\n",
       "      <th>WaveUNet</th>\n",
       "    </tr>\n",
       "  </thead>\n",
       "  <tbody>\n",
       "    <tr>\n",
       "      <th>0</th>\n",
       "      <td>/Users/ashishalex/Documents/Drone_Noise_Test_Data/test_noisy_drone_cache/0db/data/TEST/DR4/MGMM0/SX139.WAV.n121.wav</td>\n",
       "      <td>/Users/ashishalex/Documents/Drone_Noise_Test_Data//drone_noise_out//DCUNet/0db/data/DCUNet_SX139.WAV.n121.wav</td>\n",
       "      <td>/Users/ashishalex/Documents/Drone_Noise_Test_Data//drone_noise_out//DPTNet/0db/data/DPTNet_SX139.WAV.n121.wav</td>\n",
       "      <td>/Users/ashishalex/Documents/Drone_Noise_Test_Data//drone_noise_out//RegressionFCNN/0db/data/RegressionFCNN_SX139.WAV.n121.wav</td>\n",
       "      <td>/Users/ashishalex/Documents/Drone_Noise_Test_Data//drone_noise_out//SMoLnet/0db/data/SMoLnet_SX139.WAV.n121.wav</td>\n",
       "      <td>/Users/ashishalex/Documents/Drone_Noise_Test_Data//drone_noise_out//WaveUNet/0db/data/WaveUNet_SX139.WAV.n121.wav</td>\n",
       "    </tr>\n",
       "  </tbody>\n",
       "</table>\n",
       "</div>"
      ],
      "text/plain": [
       "                                                                                                                 Input  \\\n",
       "0  /Users/ashishalex/Documents/Drone_Noise_Test_Data/test_noisy_drone_cache/0db/data/TEST/DR4/MGMM0/SX139.WAV.n121.wav   \n",
       "\n",
       "                                                                                                          DCUNet  \\\n",
       "0  /Users/ashishalex/Documents/Drone_Noise_Test_Data//drone_noise_out//DCUNet/0db/data/DCUNet_SX139.WAV.n121.wav   \n",
       "\n",
       "                                                                                                          DPTNet  \\\n",
       "0  /Users/ashishalex/Documents/Drone_Noise_Test_Data//drone_noise_out//DPTNet/0db/data/DPTNet_SX139.WAV.n121.wav   \n",
       "\n",
       "                                                                                                                  RegressionFCNN  \\\n",
       "0  /Users/ashishalex/Documents/Drone_Noise_Test_Data//drone_noise_out//RegressionFCNN/0db/data/RegressionFCNN_SX139.WAV.n121.wav   \n",
       "\n",
       "                                                                                                           SMoLnet  \\\n",
       "0  /Users/ashishalex/Documents/Drone_Noise_Test_Data//drone_noise_out//SMoLnet/0db/data/SMoLnet_SX139.WAV.n121.wav   \n",
       "\n",
       "                                                                                                            WaveUNet  \n",
       "0  /Users/ashishalex/Documents/Drone_Noise_Test_Data//drone_noise_out//WaveUNet/0db/data/WaveUNet_SX139.WAV.n121.wav  "
      ]
     },
     "execution_count": 18,
     "metadata": {},
     "output_type": "execute_result"
    }
   ],
   "source": [
    "df_final.head(1)"
   ]
  },
  {
   "cell_type": "markdown",
   "metadata": {},
   "source": [
    "### Test to check if paths are correct"
   ]
  },
  {
   "cell_type": "code",
   "execution_count": 10,
   "metadata": {},
   "outputs": [],
   "source": [
    "# Test if the paths are correct by loading the audio \n",
    "# If path not found error please check the path\n",
    "for column in list(df_final):\n",
    "    for p in df_final[str(column)]:\n",
    "        _, sr = librosa.load(p, sr=8000)"
   ]
  }
 ],
 "metadata": {
  "kernelspec": {
   "display_name": "Python 3",
   "language": "python",
   "name": "python3"
  },
  "language_info": {
   "codemirror_mode": {
    "name": "ipython",
    "version": 3
   },
   "file_extension": ".py",
   "mimetype": "text/x-python",
   "name": "python",
   "nbconvert_exporter": "python",
   "pygments_lexer": "ipython3",
   "version": "3.7.10"
  }
 },
 "nbformat": 4,
 "nbformat_minor": 4
}
