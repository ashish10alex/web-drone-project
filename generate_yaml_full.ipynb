{
 "cells": [
  {
   "cell_type": "code",
   "execution_count": 1,
   "metadata": {},
   "outputs": [],
   "source": [
    "import os\n",
    "import random\n",
    "import pandas as pd\n",
    "import yaml\n",
    "yaml.Dumper.ignore_aliases = lambda *args : True\n",
    "import itertools\n",
    "pd.set_option('display.max_colwidth', None)"
   ]
  },
  {
   "cell_type": "code",
   "execution_count": 2,
   "metadata": {},
   "outputs": [],
   "source": [
    "random.seed(1)"
   ]
  },
  {
   "cell_type": "code",
   "execution_count": 3,
   "metadata": {},
   "outputs": [],
   "source": [
    "models =['Clean', 'Noisy', 'DCUNet', 'DPTNet', 'RegressionFCNN', 'SMoLnet', 'WaveUNet']\n",
    "snrs = ['-10', '-15', '-20', '-25']\n",
    "df_all_snr_dict = {\n",
    "#     '0': '', \n",
    "#     '-5': '',\n",
    "    '-10': '',\n",
    "    '-15': '',\n",
    "    '-20': '',\n",
    "    '-25': '',\n",
    "#     '-30' : ''\n",
    "}"
   ]
  },
  {
   "cell_type": "code",
   "execution_count": 4,
   "metadata": {},
   "outputs": [],
   "source": [
    "meta_data_dir = 'meta_data_for_yaml'\n",
    "for snr in snrs:\n",
    "    df_all_snr_dict[str(snr)] = pd.read_csv(f'meta_data_for_yaml/website_meta_data_snr_{snr}dB.csv', usecols = ['Clean', 'DCUNet', 'DPTNet',  'SMoLnet', 'WaveUNet'])"
   ]
  },
  {
   "cell_type": "code",
   "execution_count": null,
   "metadata": {},
   "outputs": [],
   "source": []
  },
  {
   "cell_type": "code",
   "execution_count": 5,
   "metadata": {},
   "outputs": [],
   "source": [
    "#get big dataframe\n",
    "# df = pd.concat([df_all_snr_dict['0'], df_all_snr_dict['-5'], df_all_snr_dict['-10'], df_all_snr_dict['-15'], df_all_snr_dict['-20'], df_all_snr_dict['-25'], df_all_snr_dict['-30']], ignore_index=True)\n",
    "\n",
    "df = pd.concat([df_all_snr_dict['-10'], df_all_snr_dict['-15'], df_all_snr_dict['-20'], df_all_snr_dict['-25']], ignore_index=True)"
   ]
  },
  {
   "cell_type": "code",
   "execution_count": 6,
   "metadata": {},
   "outputs": [],
   "source": [
    "def get_combinations_of_index(df, idx):\n",
    "    #all wavs except for the input to create combinations\n",
    "    #Input will be our reference\n",
    "    denoised_list = list(df.iloc[idx])[1:]\n",
    "    #create pairs of twos\n",
    "    #e.g. - (WaveUNet_SX139.WAV.n121.wav, RegressionFCNN_SX139.WAV.n121.wav) ...\n",
    "    combinations = list(itertools.combinations(denoised_list, 2))\n",
    "\n",
    "    # Final combination list with input appended to all \n",
    "    #e.g. - (input.wav, WaveUNet_SX139.WAV.n121.wav, RegressionFCNN_SX139.WAV.n121.wav) ...\n",
    "    final_combination_list = []\n",
    "    for c in combinations:\n",
    "        #trick to append to tuple \n",
    "        c = (df.iloc[idx][0], *c)\n",
    "        final_combination_list.append(c)\n",
    "    return final_combination_list    \n",
    "    "
   ]
  },
  {
   "cell_type": "code",
   "execution_count": 7,
   "metadata": {},
   "outputs": [],
   "source": [
    "final_list = []"
   ]
  },
  {
   "cell_type": "code",
   "execution_count": 8,
   "metadata": {},
   "outputs": [],
   "source": [
    "for i in range(len(df)):\n",
    "    res = get_combinations_of_index(df, i)\n",
    "    for r in res:\n",
    "        final_list.append(r)"
   ]
  },
  {
   "cell_type": "code",
   "execution_count": 9,
   "metadata": {},
   "outputs": [],
   "source": [
    "#shuffle the list in place\n",
    "random.shuffle(final_list)"
   ]
  },
  {
   "cell_type": "code",
   "execution_count": 10,
   "metadata": {},
   "outputs": [
    {
     "data": {
      "text/plain": [
       "360"
      ]
     },
     "execution_count": 10,
     "metadata": {},
     "output_type": "execute_result"
    }
   ],
   "source": [
    "len(final_list)"
   ]
  },
  {
   "cell_type": "code",
   "execution_count": 11,
   "metadata": {},
   "outputs": [],
   "source": [
    "def make_yaml_file(combinations, idx_meta='0_20'):\n",
    "    print(f'''\n",
    "    {len(combinations)} pages will be created for subjective evalutation\n",
    "    ''')\n",
    "    \n",
    "    final_dict_template = {\n",
    "    'testname': 'AB Test',\n",
    "     'testId': 'ab_noloop',\n",
    "     'bufferSize': 2048,\n",
    "     'stopOnErrors': True,\n",
    "     'showButtonPreviousPage': True,\n",
    "     'remoteService': 'service/write.php',\n",
    "     'pages': []\n",
    "    }\n",
    "    #final page which sends results\n",
    "    final_page_template =  {'type': 'finish',\n",
    "       'name': 'Thank you',\n",
    "       'content': 'Thank you for attending',\n",
    "       'showResults': False,\n",
    "       'writeResults': True,\n",
    "       'questionnaire':[\n",
    "           {\n",
    "               'type':'text',\n",
    "               'label': 'Name',\n",
    "               'name': 'name'\n",
    "           },\n",
    "           {\n",
    "               'type':'text',\n",
    "               'label': 'Email',\n",
    "               'name': 'email'\n",
    "           },\n",
    "           {\n",
    "               'type':'likert',\n",
    "               'name':'age',\n",
    "               'label':'Age',\n",
    "               'response':[\n",
    "                   {'value': '0-20',\n",
    "                   'label':'0 to 20',},\n",
    "                    {'value': '20-40',\n",
    "                   'label':'20 to 40',},\n",
    "                    {'value': '20-40',\n",
    "                   'label':'40 to 60',},\n",
    "                    {'value': '40-60',\n",
    "                   'label':'40 to 60',}\n",
    "                   \n",
    "               ]\n",
    "           },\n",
    "           {\n",
    "               'type':'likert',\n",
    "               'name':'gender',\n",
    "               'label':'Gender',\n",
    "               'response':[\n",
    "                   {'value': 'female',\n",
    "                   'label':'Female',},\n",
    "                    {'value': 'male',\n",
    "                   'label':'Male',},\n",
    "                    {'value': 'other',\n",
    "                   'label':'Other',},\n",
    "               ]\n",
    "           },\n",
    "               {\n",
    "               'type':'likert',\n",
    "               'name':'subjective_eval_ever',\n",
    "               'label':'Have you participated in audio subjective evailation before',\n",
    "               'response':[\n",
    "                   {'value': 'yes',\n",
    "                   'label':'Yes',},\n",
    "                    {'value': 'no',\n",
    "                   'label':'No',},\n",
    "               ]\n",
    "           }\n",
    "       ]\n",
    "    }\n",
    "    \n",
    "    \n",
    "    welcome_page_template = {\n",
    "        'type': 'generic',\n",
    "        'id': 'first_page',\n",
    "        'name': 'Welcome',\n",
    "        'content': '<b>Welcome to AB testing framework for DRONE ego noise ehancement. You will be presented a reference audio clip and denoised audio clip from two separate algorithms. You will be required to select one of the two clips which sounds the closest to the reference audio clip. </b>'\n",
    "    }\n",
    "    pages=[]\n",
    "    pages.append(welcome_page_template)\n",
    "    for i in range(1, len(combinations)):\n",
    "        pages_dict_template = {'type': 'paired_comparison',\n",
    "         'id': 'trialAB2',\n",
    "         'name': None,\n",
    "         'unforced': None,\n",
    "         'content': 'test description AB',\n",
    "         'showWaveform': True,\n",
    "         'enableLooping': False,\n",
    "         'reference': '',\n",
    "         'stimuli': {'C1': '',\n",
    "          'C2': ''}}\n",
    "        pages.append(pages_dict_template)\n",
    "        pages[i]['reference'] = combinations[i][0]\n",
    "        pages[i]['stimuli']['C1'] = combinations[i][1]\n",
    "        pages[i]['stimuli']['C2'] = combinations[i][2]\n",
    "    \n",
    "    pages.append(final_page_template)\n",
    "    final_dict_template['pages'] = pages\n",
    "    \n",
    "    # dict to yaml\n",
    "    yam_file_path = f'/Users/ashishalex/Documents/research/web_drone_project/pymushra/pymushra/static/yamls/other_model_combinations/idx_{idx_meta}.yaml'\n",
    "    with open(yam_file_path, 'w') as f:\n",
    "        yaml.dump(final_dict_template, f)\n",
    "    print('Created yaml file at: ', yam_file_path)\n",
    "    \n",
    "    return final_dict_template"
   ]
  },
  {
   "cell_type": "code",
   "execution_count": 12,
   "metadata": {},
   "outputs": [],
   "source": [
    "#window paramerter defines how many combinations (Reference, A, B) will the participant see\n",
    "window = 20\n",
    "start  = 0\n",
    "ranges = []\n",
    "while start < len(final_list):\n",
    "    if start + window > len(final_list):\n",
    "        ranges.append([start, len(final_list)])\n",
    "        start+=window\n",
    "    else:\n",
    "        ranges.append([start, start+ window])\n",
    "        start +=window\n",
    "    "
   ]
  },
  {
   "cell_type": "code",
   "execution_count": 13,
   "metadata": {},
   "outputs": [
    {
     "name": "stdout",
     "output_type": "stream",
     "text": [
      "\n",
      "    20 pages will be created for subjective evalutation\n",
      "    \n",
      "Created yaml file at:  /Users/ashishalex/Documents/research/web_drone_project/pymushra/pymushra/static/yamls/other_model_combinations/idx_0_20.yaml\n",
      "\n",
      "    20 pages will be created for subjective evalutation\n",
      "    \n",
      "Created yaml file at:  /Users/ashishalex/Documents/research/web_drone_project/pymushra/pymushra/static/yamls/other_model_combinations/idx_20_40.yaml\n",
      "\n",
      "    20 pages will be created for subjective evalutation\n",
      "    \n",
      "Created yaml file at:  /Users/ashishalex/Documents/research/web_drone_project/pymushra/pymushra/static/yamls/other_model_combinations/idx_40_60.yaml\n",
      "\n",
      "    20 pages will be created for subjective evalutation\n",
      "    \n",
      "Created yaml file at:  /Users/ashishalex/Documents/research/web_drone_project/pymushra/pymushra/static/yamls/other_model_combinations/idx_60_80.yaml\n",
      "\n",
      "    20 pages will be created for subjective evalutation\n",
      "    \n",
      "Created yaml file at:  /Users/ashishalex/Documents/research/web_drone_project/pymushra/pymushra/static/yamls/other_model_combinations/idx_80_100.yaml\n",
      "\n",
      "    20 pages will be created for subjective evalutation\n",
      "    \n",
      "Created yaml file at:  /Users/ashishalex/Documents/research/web_drone_project/pymushra/pymushra/static/yamls/other_model_combinations/idx_100_120.yaml\n",
      "\n",
      "    20 pages will be created for subjective evalutation\n",
      "    \n",
      "Created yaml file at:  /Users/ashishalex/Documents/research/web_drone_project/pymushra/pymushra/static/yamls/other_model_combinations/idx_120_140.yaml\n",
      "\n",
      "    20 pages will be created for subjective evalutation\n",
      "    \n",
      "Created yaml file at:  /Users/ashishalex/Documents/research/web_drone_project/pymushra/pymushra/static/yamls/other_model_combinations/idx_140_160.yaml\n",
      "\n",
      "    20 pages will be created for subjective evalutation\n",
      "    \n",
      "Created yaml file at:  /Users/ashishalex/Documents/research/web_drone_project/pymushra/pymushra/static/yamls/other_model_combinations/idx_160_180.yaml\n",
      "\n",
      "    20 pages will be created for subjective evalutation\n",
      "    \n",
      "Created yaml file at:  /Users/ashishalex/Documents/research/web_drone_project/pymushra/pymushra/static/yamls/other_model_combinations/idx_180_200.yaml\n",
      "\n",
      "    20 pages will be created for subjective evalutation\n",
      "    \n",
      "Created yaml file at:  /Users/ashishalex/Documents/research/web_drone_project/pymushra/pymushra/static/yamls/other_model_combinations/idx_200_220.yaml\n",
      "\n",
      "    20 pages will be created for subjective evalutation\n",
      "    \n",
      "Created yaml file at:  /Users/ashishalex/Documents/research/web_drone_project/pymushra/pymushra/static/yamls/other_model_combinations/idx_220_240.yaml\n",
      "\n",
      "    20 pages will be created for subjective evalutation\n",
      "    \n",
      "Created yaml file at:  /Users/ashishalex/Documents/research/web_drone_project/pymushra/pymushra/static/yamls/other_model_combinations/idx_240_260.yaml\n",
      "\n",
      "    20 pages will be created for subjective evalutation\n",
      "    \n",
      "Created yaml file at:  /Users/ashishalex/Documents/research/web_drone_project/pymushra/pymushra/static/yamls/other_model_combinations/idx_260_280.yaml\n",
      "\n",
      "    20 pages will be created for subjective evalutation\n",
      "    \n",
      "Created yaml file at:  /Users/ashishalex/Documents/research/web_drone_project/pymushra/pymushra/static/yamls/other_model_combinations/idx_280_300.yaml\n",
      "\n",
      "    20 pages will be created for subjective evalutation\n",
      "    \n",
      "Created yaml file at:  /Users/ashishalex/Documents/research/web_drone_project/pymushra/pymushra/static/yamls/other_model_combinations/idx_300_320.yaml\n",
      "\n",
      "    20 pages will be created for subjective evalutation\n",
      "    \n",
      "Created yaml file at:  /Users/ashishalex/Documents/research/web_drone_project/pymushra/pymushra/static/yamls/other_model_combinations/idx_320_340.yaml\n",
      "\n",
      "    20 pages will be created for subjective evalutation\n",
      "    \n",
      "Created yaml file at:  /Users/ashishalex/Documents/research/web_drone_project/pymushra/pymushra/static/yamls/other_model_combinations/idx_340_360.yaml\n"
     ]
    }
   ],
   "source": [
    "for start, end in ranges:\n",
    "    out = make_yaml_file(combinations=final_list[start:end], idx_meta=f'{start}_{end}')"
   ]
  },
  {
   "cell_type": "code",
   "execution_count": 14,
   "metadata": {},
   "outputs": [
    {
     "data": {
      "text/plain": [
       "360"
      ]
     },
     "execution_count": 14,
     "metadata": {},
     "output_type": "execute_result"
    }
   ],
   "source": [
    "len(final_list)"
   ]
  },
  {
   "cell_type": "code",
   "execution_count": null,
   "metadata": {},
   "outputs": [],
   "source": []
  },
  {
   "cell_type": "code",
   "execution_count": null,
   "metadata": {},
   "outputs": [],
   "source": []
  },
  {
   "cell_type": "code",
   "execution_count": null,
   "metadata": {},
   "outputs": [],
   "source": []
  }
 ],
 "metadata": {
  "kernelspec": {
   "display_name": "Python 3",
   "language": "python",
   "name": "python3"
  },
  "language_info": {
   "codemirror_mode": {
    "name": "ipython",
    "version": 3
   },
   "file_extension": ".py",
   "mimetype": "text/x-python",
   "name": "python",
   "nbconvert_exporter": "python",
   "pygments_lexer": "ipython3",
   "version": "3.7.10"
  }
 },
 "nbformat": 4,
 "nbformat_minor": 4
}
